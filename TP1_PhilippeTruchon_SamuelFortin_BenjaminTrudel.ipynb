{
 "cells": [
  {
   "cell_type": "markdown",
   "metadata": {},
   "source": [
    "# TP 1: Neurosciences et inférence bayésienne\n",
    "\n",
    "### 18 février 2024\n",
    "\n",
    "### Par Samuel Fortin, Philippe Truchon et Benjamin Trudel"
   ]
  },
  {
   "cell_type": "markdown",
   "metadata": {},
   "source": [
    "#### Fonctions générales"
   ]
  },
  {
   "cell_type": "code",
   "execution_count": 7,
   "metadata": {},
   "outputs": [
    {
     "ename": "ModuleNotFoundError",
     "evalue": "No module named 'uncertainties'",
     "output_type": "error",
     "traceback": [
      "\u001b[1;31m---------------------------------------------------------------------------\u001b[0m",
      "\u001b[1;31mModuleNotFoundError\u001b[0m                       Traceback (most recent call last)",
      "Cell \u001b[1;32mIn[7], line 9\u001b[0m\n\u001b[0;32m      7\u001b[0m \u001b[38;5;28;01mfrom\u001b[39;00m \u001b[38;5;21;01mRomberg_mod\u001b[39;00m \u001b[38;5;28;01mimport\u001b[39;00m romberg_mod\n\u001b[0;32m      8\u001b[0m \u001b[38;5;28;01mfrom\u001b[39;00m \u001b[38;5;21;01mscipy\u001b[39;00m\u001b[38;5;21;01m.\u001b[39;00m\u001b[38;5;21;01mspecial\u001b[39;00m \u001b[38;5;28;01mimport\u001b[39;00m gamma\n\u001b[1;32m----> 9\u001b[0m \u001b[38;5;28;01mfrom\u001b[39;00m \u001b[38;5;21;01muncertainties\u001b[39;00m \u001b[38;5;28;01mimport\u001b[39;00m (\n\u001b[0;32m     10\u001b[0m     ufloat,  \u001b[38;5;66;03m# Uncertainties: a Python package for calculations with uncertainties, Eric O. LEBIGOT, http://pythonhosted.org/uncertainties/\u001b[39;00m\n\u001b[0;32m     11\u001b[0m )\n\u001b[0;32m     14\u001b[0m \u001b[38;5;66;03m# Liste les noms de fichier d'un dossier\u001b[39;00m\n\u001b[0;32m     15\u001b[0m \u001b[38;5;28;01mdef\u001b[39;00m \u001b[38;5;21mlistNameOfFiles\u001b[39m(directory: \u001b[38;5;28mstr\u001b[39m, extension\u001b[38;5;241m=\u001b[39m\u001b[38;5;124m\"\u001b[39m\u001b[38;5;124mtxt\u001b[39m\u001b[38;5;124m\"\u001b[39m):\n",
      "\u001b[1;31mModuleNotFoundError\u001b[0m: No module named 'uncertainties'"
     ]
    }
   ],
   "source": [
    "import fnmatch\n",
    "import functools\n",
    "import os\n",
    "\n",
    "import matplotlib.pyplot as plt\n",
    "import numpy as np\n",
    "from Romberg_mod import romberg_mod\n",
    "from scipy.special import gamma\n",
    "from uncertainties import (\n",
    "    ufloat,  # Uncertainties: a Python package for calculations with uncertainties, Eric O. LEBIGOT, http://pythonhosted.org/uncertainties/\n",
    ")\n",
    "\n",
    "\n",
    "# Liste les noms de fichier d'un dossier\n",
    "def listNameOfFiles(directory: str, extension=\"txt\"):\n",
    "    found_files = []\n",
    "    for file in os.listdir(directory):\n",
    "        if fnmatch.fnmatch(file, f\"*.{extension}\"):\n",
    "            found_files.append(file)\n",
    "    return found_files\n",
    "\n",
    "\n",
    "# Lis et crée une matrice numpy à partir de chemin d'un fichier texte\n",
    "def readTXT(path: str):\n",
    "    fich = open(path, \"r\")\n",
    "    fich_str = list(fich)\n",
    "    fich.close()\n",
    "    x = []\n",
    "    for i in fich_str:\n",
    "        elem_str = i.replace(\"\\n\", \"\")\n",
    "        x.append(float(elem_str))\n",
    "    return np.array(x)\n",
    "\n",
    "\n",
    "# Intégration par méthode de Simpson 'nested' et récursive dans le cas d'instabilité\n",
    "def nested_simpson(f: callable, a: float, b: float, N: int):\n",
    "    if N < 3:\n",
    "        return \"La valeur minimale est 3, car la méthode de simpson nécessite 3 points par approximation\"\n",
    "    N0 = N\n",
    "    h0 = (b - a) / N\n",
    "    even = np.linspace(2, N - 2, int((N - 2) / 2), dtype=int)\n",
    "    odd = np.linspace(1, N - 1, int((N - 1) / 2), dtype=int)\n",
    "    S0 = (f(a) + f(b) + 2 * np.sum(list(map(f, a + even * h0)))) / 3\n",
    "    T0 = 2 / 3 * np.sum(list(map(f, a + odd * h0)))\n",
    "    res0 = h0 * (S0 + 2 * T0)\n",
    "    err = np.inf\n",
    "    lres = [res0]\n",
    "    lerr = [err]\n",
    "    while err > 1e-16:\n",
    "        N = N * 2\n",
    "        hi = (b - a) / N\n",
    "        Si = S0 + T0\n",
    "        Ti = 2 / 3 * np.sum(list(map(f, a + odd * hi)))\n",
    "        res = hi * (Si + 2 * Ti)\n",
    "        err = (abs((res - res0)) / 3) / res\n",
    "        if err > lerr[-1]:\n",
    "            tes = nested_simpson(f, a, b, N0 + 1)\n",
    "            if tes:\n",
    "                return tes\n",
    "\n",
    "        lres.append(res)\n",
    "        lerr.append(err)\n",
    "        S0 = Si\n",
    "        T0 = Ti\n",
    "        res0 = res\n",
    "    return lres, lerr, N0, a, b\n",
    "\n",
    "\n",
    "# Définition de pi(lambda) pour une loi Gamma\n",
    "def pi_lambda(Lambda: float, alpha: int, beta: float):\n",
    "    return (\n",
    "        1\n",
    "        / gamma(alpha)\n",
    "        * Lambda ** (alpha - 1)\n",
    "        * np.exp(-beta * Lambda)\n",
    "        * beta ** (alpha)\n",
    "    )\n",
    "\n",
    "\n",
    "# Définition de la loi de Poisson\n",
    "def poisson(x, Lambda):\n",
    "    return Lambda * np.exp(-Lambda * x)\n",
    "\n",
    "\n",
    "# Définition ddu théorème de Bayes\n",
    "def bayes(Lambda, data):\n",
    "    x = np.sort(np.ediff1d(data))\n",
    "    return pi_lambda(Lambda, 2, 0.25) * np.prod(poisson(x, Lambda))\n",
    "\n",
    "\n",
    "# Définition de la loi a posteriori\n",
    "def posteriori(Lambda, data):\n",
    "    return Lambda * bayes(Lambda, data)\n",
    "\n",
    "# Montre les résultats des itérations de la méthode de Romberg\n",
    "def show_Romberg(test):\n",
    "    interval = test[1]\n",
    "    resmat = test[2]\n",
    "    err = test[4]\n",
    "    print(\"Méthode de Romberg:\\n\")\n",
    "    print(\"De lambda = \", interval)\n",
    "    print(\"\")\n",
    "    print(\"%6s %9s \" % (\"N\", \"h\"))\n",
    "    for i in range(1, len(resmat) - 1):\n",
    "        print(\"%6d %9f\" % (2**i, (interval[1] - interval[0]) / (2.0**i)), end=\" \")\n",
    "\n",
    "        print(\"Résultat = %.15E\" % (resmat[i][-1]), end=\" \")\n",
    "        print(\"Erreur = %.15E\" % err[i], end=\" \")\n",
    "        print(\"Erreur relative = %.15E\" % (err[i] / resmat[i][-1]), end=\" \")\n",
    "        print(\"\")\n",
    "    print(\"\")\n",
    "    print(\"Le résultat final est\", \"%.15E\" % (resmat[i][-1]), end=\" \")\n",
    "    print(\"après\", 2 ** (len(resmat) - 1) + 1, \"évaluations de la fonction.\")\n",
    "    print(\"\")\n",
    "\n",
    "# Montre les résultats des itérations de la méthode de Simpson\n",
    "def show_Simpson(res):\n",
    "    interval = [res[-2], res[-1]]\n",
    "    r = res[0]\n",
    "    err = res[1]\n",
    "    print(\"Méthode de Simpson:\\n\")\n",
    "    print(\"De lambda = \", interval)\n",
    "    print(\"\")\n",
    "    print(\"%6s %9s \" % (\"N\", \"h\"))\n",
    "    i = 1\n",
    "    for i in range(1, len(r)):\n",
    "        print(\n",
    "            \"%6d %9f\" % (res[2] * i, (interval[1] - interval[0]) / (res[2] * i)),\n",
    "            end=\" \",\n",
    "        )\n",
    "        print(\"Résultat = %.15E\" % (r[i]), end=\" \")\n",
    "        print(\"Erreur relative = %.15E\" % (err[i]), end=\" \")\n",
    "        print(\"\")\n",
    "    print(\"\")\n",
    "    print(\"Le résultat final est\", \"%.15E\" % (r[-1]), end=\" \")\n",
    "    print(\"avec N = \", res[2] * i, \".\")\n",
    "    print(\"\")"
   ]
  },
  {
   "cell_type": "markdown",
   "metadata": {},
   "source": [
    "### Questions:"
   ]
  },
  {
   "cell_type": "markdown",
   "metadata": {},
   "source": [
    "#### 1.\n",
    "\n",
    "Trouvez analytiquement π(λ|X = x) et déduisez la valeur de f(x). Indice : trouvez une fonction\n",
    "g(λ) proportionnelle à la loi a posteriori, ce qui vous permettra de retrouver la même forme que\n",
    "la loi a priori π(λ). Cette loi a priori π(λ) est conjuguée à la vraisemblanc"
   ]
  },
  {
   "cell_type": "markdown",
   "metadata": {},
   "source": [
    "La fonction de normalisation f(x) est l'intégrale proportionelle de la loi à postériori:\n",
    "\n",
    "$f(x) = \\int_0^\\infty \\frac{\\beta^{\\alpha}}{\\Gamma(\\alpha)}\\lambda^{T+\\alpha-1}e^{-\\lambda(\\beta+\\sum_{i=1}^{T}x_i)}d\\lambda$\n",
    "\n",
    "Posons k = $\\beta+\\sum_{i=1}^{T}x_i$\n",
    "\n",
    "$f(x) = \\frac{\\beta^{\\alpha}}{\\Gamma(\\alpha)} \\int_0^\\infty \\lambda^{T+\\alpha-1}e^{-\\lambda k}d\\lambda$\n",
    "\n",
    "$f(x) = \\frac{\\beta^{\\alpha}}{\\Gamma(\\alpha)} \\int_0^\\infty \\Gamma(\\alpha+T)k^{-(\\alpha+T)}$\n",
    "\n",
    "donc, \n",
    "\n",
    "$\\pi(\\lambda|X=x) = \\frac{\\frac{\\beta^{\\alpha}}{\\Gamma(\\alpha)}\\lambda^{T+\\alpha-1}e^{-\\lambda(\\beta+\\sum_{i=1}^{T}x_i)}}{\\frac{\\beta^{\\alpha}}{\\Gamma(\\alpha)}\\Gamma(\\alpha+T)(\\beta+\\sum_{i=1}^{T}x_i)^{-(\\alpha+T)}} $\n",
    "\n",
    "$\\pi(\\lambda|X=x) = \\frac{\\lambda^{T+\\alpha-1}e^{-\\lambda(\\beta+\\sum_{i=1}^{T}x_i)}}{\\Gamma(\\alpha+T)(\\beta+\\sum_{i=1}^{T}x_i)^{-(\\alpha+T)}} $"
   ]
  },
  {
   "cell_type": "markdown",
   "metadata": {},
   "source": [
    "#### 2.\n",
    "\n",
    "Évaluez analytiquement l’espérance a priori λ0 := E[Λ] = R ∞\n",
    "0\n",
    "π(λ)dλ et l’espérance a posteriori\n",
    "$\\hat{\\lambda}$. Rappel : Γ(z) := R ∞\n",
    "0\n",
    "t\n",
    "z−1\n",
    "e\n",
    "−tdt et Γ(z + 1) = zΓ(z)."
   ]
  },
  {
   "cell_type": "markdown",
   "metadata": {},
   "source": [
    "2.1\n",
    "\n",
    "$\\lambda_0 = \\int_0^\\infty \\frac{\\beta^{\\alpha}}{\\Gamma(\\alpha)}\\lambda^{\\alpha-1}e^{-\\beta\\lambda}d\\lambda$\n",
    "\n",
    "où $\\Gamma(\\alpha) = \\int_0^\\infty t^{\\alpha-1}e^{^t}dt$ \n",
    "\n",
    "Si on remplace t par $\\beta\\lambda$, on obtient:\n",
    "\n",
    "$\\lambda_0 = \\frac{\\beta^{\\alpha}\\int_0^\\infty \\lambda^{\\alpha-1}e^{-\\beta\\lambda}d\\lambda}{\\beta^{\\alpha}\\int_0^\\infty \\lambda^{\\alpha-1}e^{-\\beta\\lambda}d\\lambda} = 1$\n",
    "\n",
    "\n",
    "\n",
    "\n",
    "\n",
    "2.2\n",
    "\n",
    "$\\hat{\\lambda} = \\int_0^\\infty \\lambda\\bigg(\\pi(\\lambda|X=x)\\bigg)d\\lambda$\n",
    "\n",
    "$\\hat{\\lambda} = \\int_0^\\infty \\lambda\\bigg(\\frac{\\lambda^{T+\\alpha-1}e^{-\\lambda(\\beta+\\sum_{i=1}^{T}x_i)}}{\\Gamma(\\alpha+T)(\\beta+\\sum_{i=1}^{T}x_i)^{-(\\alpha+T)}}\\bigg)d\\lambda $\n",
    "\n",
    "Le dénominateur est indépendant de $\\lambda$ et l'intégration du numérateur est comme suit:\n",
    "\n",
    "$\\int_0^\\infty \\lambda^{T+\\alpha}e^{-\\lambda(\\beta+\\sum_{i=1}^{T}x_i)}d\\lambda = \\Gamma(\\alpha+T+1)(\\beta+\\sum_{i=1}^{T}x_i)^{-(\\alpha+T+1)}$\n",
    "\n",
    "Ainsi,\n",
    "\n",
    "$\\hat{\\lambda} = \\frac{(T+\\alpha)\\Gamma(T+\\alpha)}{\\Gamma(T+\\alpha)(\\beta+\\sum_{i=1}^{T}x_i)} = \\frac{(T+\\alpha)}{(\\beta+\\sum_{i=1}^{T}x_i)}$"
   ]
  },
  {
   "cell_type": "markdown",
   "metadata": {},
   "source": [
    "#### 3.\n",
    "\n",
    "Voir la section 'Fonctions générales'"
   ]
  },
  {
   "cell_type": "markdown",
   "metadata": {},
   "source": [
    "#### 4.\n",
    "\n",
    "En inférence bayésienne, il n’est généralement pas possible d’évaluer analytiquement f(x) et\n",
    "l’équation (5). En posant que α = 2 et β = 1/4, évaluez numériquement f(x) et $\\hat{\\lambda}$ pour chaque\n",
    "série de données x en utilisant la méthode de Simpson et la méthode de Romberg. Considérez\n",
    "que λ = 200 est suffisamment grand dans les bornes d’intégration 1\n",
    ". Vous pouvez utiliser la\n",
    "fonction Gamma de scipy.\n"
   ]
  },
  {
   "cell_type": "markdown",
   "metadata": {},
   "source": [
    "Pour la méthode de Simpson le code ci-dessous est utilisé. Le code trouve la liste de fichier texte du dossier contenant le script, puis boucle sur tous les fichiers trouvés. Par la suite, pour chaque fichier de donnée, le théorème de Bayes est appliqué à l'aide de la méthode d'intégration de Simpson et les résultats sont affichés. Finalement, la <i> loi a posteriori </i> est évaluée avec la méthode de Simpson et le résultat de $\\hat{\\lambda}$ est affiché."
   ]
  },
  {
   "cell_type": "code",
   "execution_count": 1,
   "metadata": {},
   "outputs": [
    {
     "ename": "NameError",
     "evalue": "name 'os' is not defined",
     "output_type": "error",
     "traceback": [
      "\u001b[1;31m---------------------------------------------------------------------------\u001b[0m",
      "\u001b[1;31mNameError\u001b[0m                                 Traceback (most recent call last)",
      "Cell \u001b[1;32mIn[1], line 1\u001b[0m\n\u001b[1;32m----> 1\u001b[0m path \u001b[38;5;241m=\u001b[39m os\u001b[38;5;241m.\u001b[39mpath\u001b[38;5;241m.\u001b[39mabspath(\u001b[38;5;124m\"\u001b[39m\u001b[38;5;124m\"\u001b[39m)\n\u001b[0;32m      2\u001b[0m files_name \u001b[38;5;241m=\u001b[39m listNameOfFiles(path)\n\u001b[0;32m      4\u001b[0m \u001b[38;5;28;01mfor\u001b[39;00m nb, name \u001b[38;5;129;01min\u001b[39;00m \u001b[38;5;28menumerate\u001b[39m(files_name):\n",
      "\u001b[1;31mNameError\u001b[0m: name 'os' is not defined"
     ]
    }
   ],
   "source": [
    "path = os.path.abspath(\"\")\n",
    "files_name = listNameOfFiles(path)\n",
    "\n",
    "for nb, name in enumerate(files_name):\n",
    "    data_time = readTXT(path + \"/\" + name)\n",
    "\n",
    "    bayes_partial = functools.partial(bayes, data=data_time)\n",
    "    posteriori_partial = functools.partial(posteriori, data=data_time)\n",
    "\n",
    "    res = nested_simpson(bayes_partial, 0, 200, int(3))\n",
    "    fx_simpson = ufloat(res[0][-1], 1e-15 * res[0][-1])\n",
    "    show_Simpson(res)\n",
    "\n",
    "    print(\"Résultat méthode Simpson = {:.1uP}\".format(fx_simpson))\n",
    "\n",
    "    lct = nested_simpson(posteriori_partial, 0, 200, int(1e3))\n",
    "    print(lct[0][-1])\n",
    "    lc = ufloat(lct[0][-1], 1e-15 * lct[0][-1]) / fx_simpson\n",
    "\n",
    "    print(\"Lambda chapeau_{:} = {:.1uP} \\n\".format(nb, lc))  # lambda \"\"\""
   ]
  },
  {
   "cell_type": "markdown",
   "metadata": {},
   "source": [
    "Maintenant, pour la méthode de Romberg:"
   ]
  },
  {
   "cell_type": "code",
   "execution_count": 5,
   "metadata": {},
   "outputs": [
    {
     "ename": "NameError",
     "evalue": "name 'listNameOfFiles' is not defined",
     "output_type": "error",
     "traceback": [
      "\u001b[1;31m---------------------------------------------------------------------------\u001b[0m",
      "\u001b[1;31mNameError\u001b[0m                                 Traceback (most recent call last)",
      "Cell \u001b[1;32mIn[5], line 2\u001b[0m\n\u001b[0;32m      1\u001b[0m path \u001b[38;5;241m=\u001b[39m os\u001b[38;5;241m.\u001b[39mpath\u001b[38;5;241m.\u001b[39mabspath(\u001b[38;5;124m\"\u001b[39m\u001b[38;5;124m\"\u001b[39m)\n\u001b[1;32m----> 2\u001b[0m files_name \u001b[38;5;241m=\u001b[39m listNameOfFiles(path)\n\u001b[0;32m      4\u001b[0m \u001b[38;5;28;01mfor\u001b[39;00m nb, name \u001b[38;5;129;01min\u001b[39;00m \u001b[38;5;28menumerate\u001b[39m(files_name):\n\u001b[0;32m      5\u001b[0m     data_time \u001b[38;5;241m=\u001b[39m readTXT(path \u001b[38;5;241m+\u001b[39m \u001b[38;5;124m\"\u001b[39m\u001b[38;5;124m/\u001b[39m\u001b[38;5;124m\"\u001b[39m \u001b[38;5;241m+\u001b[39m name)\n",
      "\u001b[1;31mNameError\u001b[0m: name 'listNameOfFiles' is not defined"
     ]
    }
   ],
   "source": [
    "path = os.path.abspath(\"\")\n",
    "files_name = listNameOfFiles(path)\n",
    "\n",
    "for nb, name in enumerate(files_name):\n",
    "    data_time = readTXT(path + \"/\" + name)\n",
    "\n",
    "    bayes_partial = functools.partial(bayes, data=data_time)\n",
    "    posteriori_partial = functools.partial(posteriori, data=data_time)\n",
    "\n",
    "    test = romberg_mod(\n",
    "        bayes_partial, 0, 200, show=True, tol=1e-16, rtol=1e-16, divmax=20\n",
    "    )\n",
    "    fx_romberg = ufloat(test[2][-1][-1], 1e-15 * test[2][-1][-1])\n",
    "    show_Romberg(test)\n",
    "\n",
    "    print(\"Résultat méthode Romberg = {:.1uP}\".format(fx_romberg))\n",
    "\n",
    "    lct = romberg_mod(\n",
    "        posteriori_partial, 0, 200, show=True, tol=1e-16, rtol=1e-16, divmax=20\n",
    "    )\n",
    "    lc = ufloat(lct[2][-1][-1], 1e-15 * lct[2][-1][-1]) / fx_romberg\n",
    "\n",
    "    print(\"Lambda chapeau_{:} = {:.1uP} \\n\".format(nb, lc))  # lambda \"\"\""
   ]
  },
  {
   "cell_type": "markdown",
   "metadata": {},
   "source": [
    "#### Tableau récapitulatif des résultats pour $\\hat{\\lambda}$ et f(x) obtenus numériquement\n",
    "\n",
    "|  | Méthode de Simpson || Méthode de Romberg ||\n",
    "|---|---|---|---|---|\n",
    "|  | $\\hat{\\lambda}$| f(x) | $\\hat{\\lambda}$| f(x) |\n",
    "| activite_temps_0 | 8.87962669324514 | 3.815472911396957×10⁴⁸ | 8.87962669324514 | 3.815472911396957×10⁴⁸ |\n",
    "| activite_temps_1 | 21.0702844488400**5** | 2.283316152735809×10⁸⁵ | 21.0702844488400**7** | 2.283316152735809×10⁸⁵ |\n",
    "| activite_temps_2 | 33.9135550403156**2** | 4.12526757520122**9**×10¹⁰⁵ |33.9135550403156**1** | 4.12526757520123**0**×10¹⁰⁵ |\n",
    "\n",
    "On peut remarquer que les deux méthodes d'intégration peuvent être poussées à la précison machine dans un délai résonnable pour ce type de données. En poussant ces méthodes à cette précision, les même résultats sont obtenus, sauf pour le dernier chiffre significatif dans certains cas indiqué en **gras** dans le tableau ci-dessus. Ceci peut s'expliquer par le fait que la précision machine n'est pas exactement $1\\times 10^{-16}$."
   ]
  },
  {
   "cell_type": "markdown",
   "metadata": {},
   "source": [
    "#### 5.\n",
    "\n",
    "En comparant à votre solution analytique, tracez l’erreur sur f(x) et $\\hat{\\lambda}$ engendrée par vos deux\n",
    "méthodes d’intégration en fonction du nombre de tranches pour le jeux de données de votre\n",
    "choix."
   ]
  },
  {
   "cell_type": "code",
   "execution_count": null,
   "metadata": {},
   "outputs": [],
   "source": []
  },
  {
   "cell_type": "markdown",
   "metadata": {},
   "source": [
    "#### 6.\n",
    "\n",
    "Quels sont les défis reliés à l’intégration numérique de l’évidence f(x) en inférence bayésienne ?"
   ]
  },
  {
   "cell_type": "markdown",
   "metadata": {},
   "source": [
    "#### 7.\n",
    "\n",
    "Tracez un histogramme des fréquences relatives des écarts entre les impulsions. Tracez également\n",
    "la loi du modèle a priori f($x_i$\n",
    "|Λ = $λ_0$) et celle ajustée f($x_i$\n",
    "|Λ = $\\hat{\\lambda}$)."
   ]
  },
  {
   "cell_type": "code",
   "execution_count": null,
   "metadata": {},
   "outputs": [],
   "source": []
  },
  {
   "cell_type": "markdown",
   "metadata": {},
   "source": [
    "#### 8.\n",
    "\n",
    "Avec vos connaissances sur le processus de Poisson et l’inférence bayésienne, que pouvez-vous\n",
    "conclure du comportement de chaque neurone grâce à vos résultats ? Les processus sont-ils\n",
    "poissonien dans tous les cas ? Vous pouvez soutenir votre réponse en utilisant le fait que\n",
    "− log(f(x)) croît en fonction d’un modèle qui décrit de mieux en mieux les données."
   ]
  }
 ],
 "metadata": {
  "kernelspec": {
   "display_name": "Python 3 (ipykernel)",
   "language": "python",
   "name": "python3"
  },
  "language_info": {
   "codemirror_mode": {
    "name": "ipython",
    "version": 3
   },
   "file_extension": ".py",
   "mimetype": "text/x-python",
   "name": "python",
   "nbconvert_exporter": "python",
   "pygments_lexer": "ipython3",
   "version": "3.11.5"
  }
 },
 "nbformat": 4,
 "nbformat_minor": 4
}
