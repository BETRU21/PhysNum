{
 "cells": [
  {
   "cell_type": "markdown",
   "id": "62c93d5e",
   "metadata": {},
   "source": [
    "#  TP 4: \n",
    "\n",
    "### 14 avril 2024\n",
    "\n",
    "### Par Samuel Fortin, Philippe Truchon et Benjamin Trudel"
   ]
  },
  {
   "cell_type": "markdown",
   "id": "b7eb97a8-1c3d-47f2-9464-1fa469291868",
   "metadata": {},
   "source": [
    "## TP4.1\n",
    "Supposons, pour simplifier, que le corps humain est fait d'eau pure. Grâce à la base de données XCOM du NIST, trouvez le $\\mu$ de l'eau pour des photons de 60 keV, à une masse volumique de 1.0g/$cm^3$. Quelle fraction du signal subsiste après avoir traversé 5cm d'eau; 20 cm d'eau?"
   ]
  },
  {
   "cell_type": "markdown",
   "id": "0621d09d",
   "metadata": {},
   "source": [
    "## TP4.2\n",
    "En utilisant le code fourni (ou pas), créer une rétroprojection simple, aussi appelée laminogramme, des données de projection fournies. Notez qu'une approche par slicing pourrait accélérer votre algorithme. Votre code utilisera la méthode du plus proche voisn pour déterminer la valeur de projection à utiliser (le rayon passant par la source et le voxel d'intérêt n'aboutit pas nécessairement au centre des pixels du détecteur). Une fois que vous aurez accès au fantôme numérique, comparez-le à la reconstruction. Qualitativement, quelles différebces observez-vous entre l'image reconstruite et l'image de référence (fantôme)?"
   ]
  },
  {
   "cell_type": "markdown",
   "id": "0f08cd3f",
   "metadata": {},
   "source": [
    "## TP4.3\n",
    "En utilisant la librairie numpy.fft, implémentez le filtre passe-haut proposé pour filtrer le sinogramme une projection à la fois. Affichez et sauvegardez l'image du sinogramme filtré. Qualitativement, quelles sont les principales différences entre le sinogramme fourni et filtré?"
   ]
  },
  {
   "cell_type": "markdown",
   "id": "1ded7a03",
   "metadata": {},
   "source": [
    "## TP4.4\n",
    "Ayant en main le sinogramme filtré, effectuez une rétroprojection filtrée, en récupérant idéalement le code précédent du laminogramme. Comparez l'image obtenue avec le fantôme. Quelles différences observez-vous? Où sont situées les erreurs et que diriez-vous de la fréquence spatiale des erreurs?"
   ]
  },
  {
   "cell_type": "markdown",
   "id": "563bf76f-ee35-41e4-8266-63c1e5534003",
   "metadata": {},
   "source": [
    "## TP4.5\n",
    "Écrivez une nouvelle fonction de reconstruction reconFourierSlice() qui effectue la reconstruction via le théorème de la tranche de Fourier. Il faut effectuer la TF 1D de chaque projection du sinogramme et stocker le nouveau sinogramme transformé. Par échantillonnage du sinogramme, remplissez l'espace de Fourier 2D de l'image à reconstruire. Vous pouvez choisir l'angle approprié par la méthode du plus proche voisin et la position sur le détecteur par interpolation linéaire. Trouvez l'image par $TF_{2D}^{-1}$ et commentez les résultats. Indice : considérez toutes les données comme des nombres complexes avec l'initialisation suivante mymatrix = numpy.zeros((a,b),\"complex\"), puis, prenez la partie réelle de l'image finale."
   ]
  }
 ],
 "metadata": {
  "kernelspec": {
   "display_name": "Python 3 (ipykernel)",
   "language": "python",
   "name": "python3"
  },
  "language_info": {
   "codemirror_mode": {
    "name": "ipython",
    "version": 3
   },
   "file_extension": ".py",
   "mimetype": "text/x-python",
   "name": "python",
   "nbconvert_exporter": "python",
   "pygments_lexer": "ipython3",
   "version": "3.11.5"
  }
 },
 "nbformat": 4,
 "nbformat_minor": 5
}
