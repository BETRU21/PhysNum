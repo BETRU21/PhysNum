{
 "cells": [
  {
   "cell_type": "markdown",
   "id": "62c93d5e",
   "metadata": {},
   "source": [
    "#  TP 3: \n",
    "\n",
    "### 14 avril 2024\n",
    "\n",
    "### Par Samuel Fortin, Philippe Truchon et Benjamin Trudel"
   ]
  },
  {
   "cell_type": "markdown",
   "id": "2b6a46a5",
   "metadata": {},
   "source": [
    "## TP3.1 Mécanique céleste - la Terre"
   ]
  },
  {
   "cell_type": "markdown",
   "id": "0621d09d",
   "metadata": {},
   "source": [
    "## TP3.2 Mécanique céleste - Mars"
   ]
  },
  {
   "cell_type": "code",
   "execution_count": null,
   "id": "bab8cdb8",
   "metadata": {},
   "outputs": [],
   "source": []
  }
 ],
 "metadata": {
  "kernelspec": {
   "display_name": "Python 3 (ipykernel)",
   "language": "python",
   "name": "python3"
  },
  "language_info": {
   "codemirror_mode": {
    "name": "ipython",
    "version": 3
   },
   "file_extension": ".py",
   "mimetype": "text/x-python",
   "name": "python",
   "nbconvert_exporter": "python",
   "pygments_lexer": "ipython3",
   "version": "3.11.5"
  }
 },
 "nbformat": 4,
 "nbformat_minor": 5
}
