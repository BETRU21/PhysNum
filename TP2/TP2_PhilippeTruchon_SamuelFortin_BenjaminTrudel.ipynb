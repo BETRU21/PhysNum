{
 "cells": [
  {
   "cell_type": "markdown",
   "metadata": {},
   "source": [
    "#  TP 2: \n",
    "\n",
    "### 18 mars 2024\n",
    "\n",
    "### Par Samuel Fortin, Philippe Truchon et Benjamin Trudel"
   ]
  },
  {
   "cell_type": "markdown",
   "metadata": {},
   "source": [
    "## TP2.1 Décomposition QR par la méthode Householder"
   ]
  },
  {
   "cell_type": "markdown",
   "metadata": {},
   "source": [
    "#### Fonctions générales"
   ]
  },
  {
   "cell_type": "code",
   "execution_count": 1,
   "metadata": {},
   "outputs": [],
   "source": [
    "import fnmatch\n",
    "import functools\n",
    "import os\n",
    "\n",
    "import matplotlib.pyplot as plt\n",
    "import numpy as np\n",
    "import seaborn as sns\n",
    "import math\n",
    "\n",
    "\n",
    "sns.set_theme(style=\"ticks\", palette=\"deep\")\n",
    "\n",
    "plt.rcParams[\"axes.spines.right\"] = False\n",
    "plt.rcParams[\"axes.spines.top\"] = False\n",
    "\n",
    "\n",
    "\n",
    "# Liste les noms de fichier d'un dossier\n",
    "def listNameOfFiles(directory: str, extension=\"csv\"):\n",
    "    found_files = []\n",
    "    for file in os.listdir(directory):\n",
    "        if fnmatch.fnmatch(file, f\"*.{extension}\"):\n",
    "            found_files.append(file)\n",
    "    return found_files\n",
    "\n",
    "\n",
    "# Lis et crée une matrice numpy à partir de chemin d'un fichier texte\n",
    "def readTXT(path: str, header):\n",
    "    fich = open(path, \"r\")\n",
    "    fich_str = list(fich)\n",
    "    fich.close()\n",
    "    x = []\n",
    "    for i in fich_str[header:]:\n",
    "        elem_str = i.replace(\"\\n\", \"\")\n",
    "        x.append(float(elem_str))\n",
    "    return np.array(x)\n",
    "\n",
    "def readcsv(path: str, header):\n",
    "    arr = np.loadtxt(path,\n",
    "                 delimiter=\",\", dtype=float, skiprows=header)\n",
    "    return arr\n",
    "\n",
    "\n",
    "path = os.path.abspath(\"\")\n",
    "files_name = listNameOfFiles(path)\n"
   ]
  },
  {
   "cell_type": "markdown",
   "metadata": {},
   "source": [
    "### Questions:"
   ]
  },
  {
   "cell_type": "markdown",
   "metadata": {},
   "source": [
    "### a)\n",
    "\n",
    "<i>À l’aide des équations (2.1.2) et (2.1.3), démontrez que les matrices de réflexion Q_i sont orthogonales.</i>"
   ]
  },
  {
   "cell_type": "markdown",
   "metadata": {},
   "source": [
    "Sachant que $v^T v = I$:\n",
    "\n",
    "\\begin{gather*}\n",
    " H_{m,i}H_{m,i}^T = H_{m,i}H_{m,i}\n",
    " \\\\\n",
    " H_{m,i}H_{m,i}^T = \\Big( I - \\frac{2 v v^T}{v^T v} \\Big) \\Big( I - \\frac{2 v v^T}{v^T v} \\Big)\n",
    " \\\\\n",
    " H_{m,i}H_{m,i}^T = I - \\frac{ 4 v v^T }{ v^T v } + \\frac{ 4 v (v^T v) v^T }{ (v^T v)^2 }\n",
    " \\\\\n",
    " H_{m,i}H_{m,i}^T = I - \\frac{ 4 v v^T }{ v^T v } + \\frac{ 4 v v^T }{ v^T v }\n",
    " \\\\\n",
    " H_{m,i}H_{m,i}^T = I\n",
    "\\end{gather*}  "
   ]
  },
  {
   "cell_type": "markdown",
   "metadata": {},
   "source": [
    "\n",
    "$$ Q_i = \\left [\n",
    "\\begin{matrix}\n",
    "I_i & 0 \\\\\n",
    "0 & H_{m,i} \n",
    "\\end{matrix}\n",
    "\\right ]$$\n",
    "\n",
    "En utilisant la forme générale du produit des matrices par blocs, on sait que:\n",
    "\n",
    "$$ M^T = \\left [\n",
    "\\begin{matrix}\n",
    "A^T & B^T \\\\\n",
    "C^T & D^T \n",
    "\\end{matrix}\n",
    "\\right ] $$\n",
    "\n",
    "Donc:\n",
    "\n",
    "$$ Q_i = \\left [\n",
    "\\begin{matrix}\n",
    "I_i & 0 \\\\\n",
    "0 & H_{m,i} \n",
    "\\end{matrix}\n",
    "\\right ] = \\left [\n",
    "\\begin{matrix}\n",
    "I_i^T & 0 \\\\\n",
    "0 & H_{m,i}^T \n",
    "\\end{matrix}\n",
    "\\right ] = Q_i^T$$\n",
    "\n",
    "\n",
    "\n"
   ]
  },
  {
   "cell_type": "markdown",
   "metadata": {},
   "source": [
    "### b)\n",
    "\n",
    "<i>Démontrez l’équation (2.1.5) et que la matrice Q est orthogonale.</i>\n",
    "\n",
    " "
   ]
  },
  {
   "cell_type": "markdown",
   "metadata": {},
   "source": [
    "En utilisant la propriété d'associativité : $(AB)^T = B^T A^T$ et sachant que $Q_{i}^T Q_{i} = I$\n",
    "\n",
    "\\begin{gather*}\n",
    "    Q = \\prod_{i=0}^{n-1} Q_i^T\n",
    "\\end{gather*}\n",
    "\n",
    "\\begin{gather*}\n",
    "    (\\prod_{i=0}^{n-1} Q_i)^T (\\prod_{i=0}^{n-1} Q_i) = (\\prod_{i=n-1}^{0} Q_i^T)(\\prod_{i=0}^{n-1} Q_i) = \\prod_{i=0}^{n-1} I = I\n",
    "\\end{gather*}\n",
    "\n",
    "La matrice Q est donc orthogonale."
   ]
  },
  {
   "cell_type": "markdown",
   "metadata": {},
   "source": [
    "### c)\n",
    "\n",
    "<i>Implémentez la fonction householder_qr qui prend en argument une matrice A et qui retourne les matrices Q\n",
    "et R obtenues par la méthode de Householder.</i>\n"
   ]
  },
  {
   "cell_type": "code",
   "execution_count": 2,
   "metadata": {},
   "outputs": [],
   "source": [
    "def householder_qr(A, inter=False):\n",
    "    m, n = A.shape\n",
    "    Q = np.identity(m)\n",
    "    for i in range(n):\n",
    "        H = np.identity(m)\n",
    "        x = A[i:, i]\n",
    "\n",
    "        e1 = np.zeros(len(x)).T\n",
    "        e1[0] = 1\n",
    "\n",
    "        v = np.array([x]).T+np.copysign(np.linalg.norm(x), x[0]) * np.array([e1]).T\n",
    "\n",
    "\n",
    "        Ht = np.identity(x.shape[0])\n",
    "\n",
    "        Ht -= (2 * (v @ v.T)/(v.T @ v))\n",
    "\n",
    "        H[i:, i:] = Ht\n",
    "        Q = Q @ H\n",
    "        A = H @ A\n",
    "        if inter:\n",
    "            print(f'A{i}:\\n', A.round(6)) \n",
    "    return Q, A"
   ]
  },
  {
   "cell_type": "markdown",
   "metadata": {},
   "source": [
    "### d)\n",
    "\n",
    "<i>À l’aide d’une matrice de dimension 4 × 3 de votre choix, testez votre fonction householder_qr et comparez les\n",
    "résultats obtenus avec ceux obtenus à l’aide de la fonction numpy.linalg.qr. Les matrices sont-elles exactement\n",
    "les mêmes ? Si non, est-ce un problème?</i>\n",
    "\n"
   ]
  },
  {
   "cell_type": "code",
   "execution_count": 3,
   "metadata": {},
   "outputs": [
    {
     "name": "stdout",
     "output_type": "stream",
     "text": [
      "[[3 9 3]\n",
      " [1 2 4]\n",
      " [2 3 4]\n",
      " [1 3 5]]\n",
      "Q:\n",
      " [[-0.774597  0.539527 -0.322721 -0.069007]\n",
      " [-0.258199 -0.205534  0.453183 -0.828079]\n",
      " [-0.516398 -0.796444 -0.151061  0.276026]\n",
      " [-0.258199  0.179842  0.817103  0.483046]]\n",
      "R:\n",
      " [[-3.872983 -9.811558 -6.713171]\n",
      " [-0.        2.594867 -1.490121]\n",
      " [-0.       -0.        4.325838]\n",
      " [ 0.        0.       -0.      ]]\n",
      "(array([[-0.77459667,  0.53952675, -0.32272122, -0.06900656],\n",
      "       [-0.25819889, -0.205534  ,  0.45318299, -0.82807867],\n",
      "       [-0.51639778, -0.79644424, -0.151061  ,  0.27602622],\n",
      "       [-0.25819889,  0.17984225,  0.81710267,  0.48304589]]), array([[-3.87298335, -9.81155781, -6.71317113],\n",
      "       [ 0.        ,  2.59486673, -1.49012149],\n",
      "       [ 0.        ,  0.        ,  4.32583764],\n",
      "       [ 0.        ,  0.        ,  0.        ]]))\n"
     ]
    }
   ],
   "source": [
    "a = np.random.randint(1,10,(4,3))\n",
    "print(a)\n",
    "Q, R = householder_qr(a)\n",
    "print('Q:\\n', Q.round(6))\n",
    "print('R:\\n', R.round(6))\n",
    "r2 = np.linalg.qr(a, mode='complete')\n",
    "print(r2)"
   ]
  },
  {
   "cell_type": "markdown",
   "metadata": {},
   "source": [
    "Les matrices sont les mêmes, mais la matrice Q pourrait avoir des signes différents selon la convention de signe utilisée qui menerait à la même matrice R."
   ]
  },
  {
   "cell_type": "markdown",
   "metadata": {},
   "source": [
    "### e)\n",
    "\n",
    "<i>À l’aide de la matrice utilisée en d, illustrez comment la multiplication successive des matrices Q_i triangularise\n",
    "progressivement la matrice A. Dans l’élan, assurez-vous que les matrices Q et R obtenues sont bien orthogonale et\n",
    "triangulaire supérieure, respectivement.</i>\n"
   ]
  },
  {
   "cell_type": "code",
   "execution_count": 4,
   "metadata": {},
   "outputs": [
    {
     "name": "stdout",
     "output_type": "stream",
     "text": [
      "A0:\n",
      " [[-3.872983 -9.811558 -6.713171]\n",
      " [ 0.       -0.737029  2.586761]\n",
      " [ 0.       -2.474059  1.173521]\n",
      " [ 0.        0.262971  3.586761]]\n",
      "A1:\n",
      " [[-3.872983 -9.811558 -6.713171]\n",
      " [-0.        2.594867 -1.490121]\n",
      " [ 0.        0.       -1.853718]\n",
      " [ 0.       -0.        3.908529]]\n",
      "A2:\n",
      " [[-3.872983 -9.811558 -6.713171]\n",
      " [-0.        2.594867 -1.490121]\n",
      " [-0.       -0.        4.325838]\n",
      " [ 0.        0.       -0.      ]]\n",
      "[[ 1.00000000e+00 -5.55111512e-17  5.55111512e-17  6.93889390e-17]\n",
      " [-5.55111512e-17  1.00000000e+00 -1.38777878e-17 -1.11022302e-16]\n",
      " [ 5.55111512e-17 -1.38777878e-17  1.00000000e+00  1.90819582e-17]\n",
      " [ 6.93889390e-17 -1.11022302e-16  1.90819582e-17  1.00000000e+00]]\n"
     ]
    }
   ],
   "source": [
    "Q, R = householder_qr(a, inter=True)\n",
    "I = Q @ Q.T\n",
    "print(I)"
   ]
  },
  {
   "cell_type": "markdown",
   "metadata": {},
   "source": [
    "On oberve qu'à chaque itération la colonne la plus à gauche non triangulaire le devient en devenant des zéros en dessous de la diagonale. En même temps, on observe que la dernière matrice A qui est égale à R est triangulaire supérieur que tous les valeurs en dessous de la diagonale sont zéros. Finalement, on vérifie l'orthogonalité de Q en multipliant Q par sa transpose. Le résultat obtenu est la matrice identité comme prévu, confirmant l'orthogonalité. À noter, que les zéros dans ce cas ne sont pas exactement zéro à cause d'erreur numérique."
   ]
  },
  {
   "cell_type": "code",
   "execution_count": 5,
   "metadata": {},
   "outputs": [
    {
     "name": "stdout",
     "output_type": "stream",
     "text": [
      "[[1. 0. 0. 0.]\n",
      " [0. 1. 0. 0.]\n",
      " [0. 0. 1. 0.]\n",
      " [0. 0. 0. 1.]]\n"
     ]
    }
   ],
   "source": [
    "I[I< 1e-15] = 0\n",
    "print(I)"
   ]
  },
  {
   "cell_type": "markdown",
   "metadata": {},
   "source": [
    "## TP2.2 Mesures imprécises dans un jeu de bataille navale"
   ]
  },
  {
   "cell_type": "markdown",
   "metadata": {},
   "source": [
    "### a)\n",
    "\n",
    "<i>Modifiez votre code de décomposition QR pour qu’il retourne la décomposition QR réduite de la matrice d’entrée\n",
    "lorsque l’argument additionnel reduite=True lui est passé.</i>"
   ]
  },
  {
   "cell_type": "code",
   "execution_count": 6,
   "metadata": {},
   "outputs": [],
   "source": [
    "def householder_qr(A, inter=False, reduite=False):\n",
    "    m, n = A.shape\n",
    "    Q = np.identity(m)\n",
    "    for i in range(n):\n",
    "        H = np.identity(m)\n",
    "        x = A[i:, i]\n",
    "\n",
    "        e1 = np.zeros(len(x)).T\n",
    "        e1[0] = 1\n",
    "\n",
    "        v = np.array([x]).T+np.copysign(np.linalg.norm(x), x[0]) * np.array([e1]).T\n",
    "\n",
    "\n",
    "        Ht = np.identity(x.shape[0])\n",
    "\n",
    "        Ht -= (2 * (v @ v.T)/(v.T @ v))\n",
    "\n",
    "        H[i:, i:] = Ht\n",
    "        Q = Q @ H\n",
    "        A = H @ A\n",
    "        if inter:\n",
    "            print(f'A{i}:\\n', A.round(6)) \n",
    "    if reduite:\n",
    "        A = A[:n,:]\n",
    "        Q = Q[:,:n]\n",
    "    return Q, A"
   ]
  },
  {
   "cell_type": "markdown",
   "metadata": {},
   "source": [
    "### b)\n",
    "\n",
    "<i>Utilisez votre code pour résoudre approximativement l’équation (2.2.4). Vous utiliserez les données fournies dans\n",
    "le fichier bataille_navale_equipeXX.csv où vous remplacerez XX par votre numéro d’équipe dans la boîte de\n",
    "dépôt sur MonPortail. </i>"
   ]
  },
  {
   "cell_type": "code",
   "execution_count": 7,
   "metadata": {},
   "outputs": [
    {
     "name": "stdout",
     "output_type": "stream",
     "text": [
      "Q:\n",
      " [[-0.353553 -0.540046  0.54002 ]\n",
      " [-0.353553 -0.385767  0.077167]\n",
      " [-0.353553 -0.23151  -0.23139 ]\n",
      " [-0.353553 -0.077124 -0.385793]\n",
      " [-0.353553  0.07718  -0.385761]\n",
      " [-0.353553  0.231497 -0.231398]\n",
      " [-0.353553  0.385695  0.077007]\n",
      " [-0.353553  0.540075  0.540148]]\n",
      "R:\n",
      " [[-2.82842700e+00 -6.75289279e+03 -1.61968471e+07]\n",
      " [ 0.00000000e+00 -4.58301915e+02 -2.18840078e+06]\n",
      " [-0.00000000e+00  0.00000000e+00  6.48168046e+04]]\n",
      "[[-6.83780044e+01]\n",
      " [ 2.25720748e+00]\n",
      " [-8.45177767e-04]]\n",
      "\n",
      " [[-1360.06282122]\n",
      " [  815.10517898]\n",
      " [  -54.78172217]] \n",
      " \n",
      " [-1360.06282122   815.10517898   -54.78172217]\n"
     ]
    }
   ],
   "source": [
    "data = readcsv(f'{path}\\\\{files_name[0]}', header=1)\n",
    "x = data[:,0]\n",
    "Y = data[:,1]\n",
    "X = np.ones((len(x), 3))\n",
    "X[:,1] = x\n",
    "X[:,2] = x**2\n",
    "\n",
    "Q,R = householder_qr(X, reduite=True)\n",
    "print('Q:\\n', Q.round(6))\n",
    "print('R:\\n', R.round(6))\n",
    "\n",
    "\n",
    "right = Q.T @ Y\n",
    "R_inv = np.linalg.inv(R)\n",
    "alpha = np.array([R_inv @ right]).T\n",
    "print(alpha)\n",
    "\n",
    "print('\\n', R @ alpha, '\\n \\n', right) # Vérif\n",
    "\n"
   ]
  },
  {
   "cell_type": "markdown",
   "metadata": {},
   "source": [
    "### c)\n",
    "\n",
    "<i>Tracez les données (cercles noirs) et la solution estimée de la trajectoire(ligne pleine de la couleur de votre choix)\n",
    "donnée par l’équation (2.2.3). </i>"
   ]
  },
  {
   "cell_type": "code",
   "execution_count": 8,
   "metadata": {},
   "outputs": [
    {
     "data": {
      "image/png": "[encoded data removed]",
      "text/plain": [
       "<Figure size 640x480 with 1 Axes>"
      ]
     },
     "metadata": {},
     "output_type": "display_data"
    }
   ],
   "source": [
    "a0, a1, a2 = alpha[:,0]\n",
    "\n",
    "xf = np.linspace(x[0], x[-1], 1000)\n",
    "\n",
    "y = a0 + a1*xf + a2*xf**2\n",
    "\n",
    "plt.plot(xf,y, 'r', label='Trajectoire estimée')\n",
    "plt.plot(x, Y, 'ko', label='Données')\n",
    "plt.ylabel('Altitude')\n",
    "plt.xlabel('Distance horizontale')\n",
    "plt.legend()\n",
    "plt.show()\n"
   ]
  },
  {
   "cell_type": "markdown",
   "metadata": {},
   "source": [
    "### d)\n",
    "\n",
    "<i>Obtenez la position d’impact du projectile (à y = 0) en résolvant l’équation quadratique (2.2.3) pour x à l’aide\n",
    "d’une implémentation personnelle de la méthode de la bissection. Comparez votre solution avec celle obtenue en\n",
    "résolvant cette même équation analytiquement. Considérant que votre embarcation se situe à la position (x, y) =\n",
    "(0, 0), quelle est la distance horizontale vous séparant du point d’impact ?\n",
    " </i>"
   ]
  },
  {
   "cell_type": "code",
   "execution_count": 9,
   "metadata": {},
   "outputs": [
    {
     "ename": "NameError",
     "evalue": "name 'xC' is not defined",
     "output_type": "error",
     "traceback": [
      "\u001b[1;31m---------------------------------------------------------------------------\u001b[0m",
      "\u001b[1;31mNameError\u001b[0m                                 Traceback (most recent call last)",
      "Cell \u001b[1;32mIn[9], line 14\u001b[0m\n\u001b[0;32m     12\u001b[0m xCp \u001b[38;5;241m=\u001b[39m np\u001b[38;5;241m.\u001b[39minf\n\u001b[0;32m     13\u001b[0m \u001b[38;5;28;01mwhile\u001b[39;00m \u001b[38;5;28;01mTrue\u001b[39;00m:\n\u001b[1;32m---> 14\u001b[0m     xA, xB, xC \u001b[38;5;241m=\u001b[39m prochains_points(xA, xB)\n\u001b[0;32m     15\u001b[0m     \u001b[38;5;28;01mif\u001b[39;00m \u001b[38;5;28mabs\u001b[39m(xC\u001b[38;5;241m-\u001b[39mxCp) \u001b[38;5;241m<\u001b[39m \u001b[38;5;241m1e-16\u001b[39m:\n\u001b[0;32m     16\u001b[0m         \u001b[38;5;28;01mbreak\u001b[39;00m\n",
      "Cell \u001b[1;32mIn[9], line 5\u001b[0m, in \u001b[0;36mprochains_points\u001b[1;34m(xA, xB)\u001b[0m\n\u001b[0;32m      4\u001b[0m \u001b[38;5;28;01mdef\u001b[39;00m \u001b[38;5;21mprochains_points\u001b[39m(xA, xB): \u001b[38;5;66;03m# À cause qu'on peut interpréter l'allure de la fonction (fonction 2D), il n'est pas nécessaire d'implémenter les vérifications comme f(xA)f(xB) < 0.\u001b[39;00m\n\u001b[1;32m----> 5\u001b[0m     \u001b[38;5;28;01mif\u001b[39;00m f(xA) \u001b[38;5;241m*\u001b[39m f(xC) \u001b[38;5;241m>\u001b[39m \u001b[38;5;241m0\u001b[39m:\n\u001b[0;32m      6\u001b[0m         xA \u001b[38;5;241m=\u001b[39m xC\n\u001b[0;32m      7\u001b[0m     \u001b[38;5;28;01melse\u001b[39;00m:\n",
      "\u001b[1;31mNameError\u001b[0m: name 'xC' is not defined"
     ]
    }
   ],
   "source": [
    "def f(x):\n",
    "    return a0 + a1*x + a2*x**2\n",
    "\n",
    "def prochains_points(xA, xB): # À cause qu'on peut interpréter l'allure de la fonction (fonction 2D), il n'est pas nécessaire d'implémenter les vérifications comme f(xA)f(xB) < 0.\n",
    "    if f(xA) * f(xC) > 0:\n",
    "        xA = xC\n",
    "    else:\n",
    "        xB = xC\n",
    "    return xA, xB, xC\n",
    "\n",
    "xA, xB = 2500, 2800 # À partir du graphique en c)\n",
    "xCp = np.inf\n",
    "while True:\n",
    "    xA, xB, xC = prochains_points(xA, xB)\n",
    "    if abs(xC-xCp) < 1e-16:\n",
    "        break\n",
    "    xCp = xC\n",
    "print(xC)\n",
    "\n",
    "xminus = (-a1- np.sqrt(a1**2-4*a2*a0))/(2*a2)\n",
    "print(xminus)\n",
    "\n"
   ]
  },
  {
   "cell_type": "markdown",
   "metadata": {},
   "source": [
    "## TP2.3 Modèle épidémiologique SIR sur réseau"
   ]
  },
  {
   "cell_type": "markdown",
   "metadata": {},
   "source": [
    "### a)\n",
    "\n",
    "Trouvez analytiquement toutes les solutions de l’équation cubique (2.3.3)."
   ]
  },
  {
   "cell_type": "markdown",
   "metadata": {},
   "source": [
    "$u = \\frac{1}{[1+T(\\kappa - 1)(1-u)]^2} \\equiv f(u)$ où $\\kappa$ = 5\n",
    "\n",
    "Posons aussi:\n",
    "u = (1-x)\n",
    "\n",
    "$(1-x)[1+T(5 - 1)(1-1+x)]^2 = 1$\n",
    "\n",
    "$(1-x)(1+8Tx+16T^2x^2) = 1$\n",
    "\n",
    "$(1-1+8Tx+16T^2x^2-x-8Tx^2-16T^2x^3) = 0$\n",
    "\n",
    "$x(8T+16T^2x-1-8Tx-16T^2x^2) = 0$\n",
    "\n",
    "$x((8T-1)+x(16T^2-8T)-x^2(16T^2)) = 0$\n",
    "\n",
    "\n",
    "les coefficients de chaque puissance de cette équation quadratique sont:\n",
    "\n",
    "$a = -16T^2$\n",
    "\n",
    "$b = 16T^2-8T$\n",
    "\n",
    "$c = 8T-1$\n",
    "\n",
    "\n",
    "$\\frac{-b \\pm \\sqrt{b^2-4ac}}{2a}$ où $b^2-4ac = (16T^2-8T)^2+4(16T^2)(8T-1) = 256T^4+256T^3$\n",
    "\n",
    "$\\frac{(8T-16T^2) \\pm \\sqrt{256T^4+256T^3}}{-32T^2}$\n",
    "\n",
    "\n",
    "\n",
    "$x_1 = 0$\n",
    "\n",
    "$x_2 = \\frac{(2T-1) + 2\\sqrt{T^2+T}}{4T}$\n",
    "\n",
    "$x_3 = \\frac{(2T-1) - 2\\sqrt{T^2+T}}{4T}$\n",
    "\n",
    "On peut finalement revenir en fonction de u:\n",
    "\n",
    "$u_1 = 1$\n",
    "\n",
    "$u_2 = \\frac{(1-2T) - 2\\sqrt{T^2+T}}{4T}+1$\n",
    "\n",
    "$u_3 = \\frac{(1-2T) + 2\\sqrt{T^2+T}}{4T}+1$"
   ]
  },
  {
   "cell_type": "markdown",
   "metadata": {},
   "source": [
    "### b)\n",
    "\n",
    "Démontrez laquelle des solutions obtenues précédemment (ou une combinaison de celles-ci) correspond à u, soit\n",
    "la solution recherchée de l’équation (2.3.3).\n"
   ]
  },
  {
   "cell_type": "markdown",
   "metadata": {},
   "source": [
    "La solution recherchée sera soit $u_1$, $u_2$, $u_3$ ou une combinaison des trois. \n",
    "\n",
    "Comme on cherche la valeur de $u$ la plus petite pour tout T dans l'intervalle $[0,1]$ et que $u_1$ ne varie pas en fonction de T, on posera cette valeur comme la plus petite à moins que les deux autres solutions ne soit encore plus petite. On veut donc trouver le point d'inflexion entre $u_1$ et ces deux solutions s'il y en a:\n",
    "\n",
    "$u_2 = u_1$\n",
    "\n",
    "$\\frac{(1-2T) - 2\\sqrt{T^2+T}}{4T}+1 = 1$\n",
    "\n",
    "$2\\sqrt{T^2+T} = (1-2T)$\n",
    "\n",
    "$T^2 + T = 1/4 - T + T^2$\n",
    "\n",
    "$T = 1/8$\n",
    "\n",
    "Donc, $u_2$ diminue sur l'intervalle de T et devient plus petit que $u_1$ à partir de T=1/8.\n",
    "\n",
    "\n",
    "\n",
    "$\\lim_{T\\to\\infty}u_3(T) = \\frac{T((1/T)-2) + 2T\\sqrt{1+1/T}}{4T}+1 = 1+ \\frac{((1/\\infty)-2)+2\\sqrt{1+1/\\infty}}{4} = 1+ \\frac{-2+2}{4}= 1$\n",
    "\n",
    "Comme $u_3$ donne 1 lorsque T tend vers l'infini et que cette solution est toujours plus grande que 1 avant, nous pouvons éliminer $u_3$ des possibilités sur l'intervalle à l'étude.\n",
    "\n",
    "\n",
    "Ainsi, la combinaison de solutions pour que $u$ soit toujours la plus petite solution non négative en fonction de T est $u_1$ pour $[0 \\le T \\le 0.125]$ et $u_2$ pour $[0.125<T \\le 1]$"
   ]
  },
  {
   "cell_type": "markdown",
   "metadata": {},
   "source": [
    "### c)\n",
    "\n",
    "Tracez $R_∞$ en fonction de T et identifiez tout changement qualitatif de $R_∞$. Comment interprétez-vous ce\n",
    "changement (ou cette absence de changement) ?"
   ]
  },
  {
   "cell_type": "code",
   "execution_count": 37,
   "metadata": {},
   "outputs": [
    {
     "data": {
      "image/png": "[encoded data removed]",
      "text/plain": [
       "<Figure size 640x480 with 1 Axes>"
      ]
     },
     "metadata": {},
     "output_type": "display_data"
    }
   ],
   "source": [
    "import numpy as np\n",
    "import matplotlib.pyplot as plt\n",
    "\n",
    "\n",
    "def R(T,u):\n",
    "\treturn 1-((1-T*(1-u))/(1+(4*T*(1-u))))\n",
    "\n",
    "\n",
    "def u_2(T):\n",
    "\treturn 1 - ( 2*T-1 + 2*np.sqrt(T**2+T) )/( 4*T )\n",
    "\n",
    "def u_1(T):\n",
    "\treturn np.ones(T.shape)\n",
    "\n",
    "x1 = np.linspace(0,0.125,1000)\n",
    "x2 = np.linspace(0.125,1,1000)\n",
    "\n",
    "y1 = u_1(x1)\n",
    "y2 = u_2(x2)\n",
    "\n",
    "u = np.concatenate((y1,y2)) \n",
    "T = np.concatenate((x1,x2))\n",
    "\n",
    "\n",
    "fig, ax = plt.subplots(nrows=1, ncols=1)\n",
    "ax.plot(T,R(T,u), color=\"#03495C\")\n",
    "ax.plot(0.125, 0, marker='o', color=\"#FF4C24\")\n",
    "plt.text(0.150,0,'T=0.125')\n",
    "ax.set_xlabel(\"T\", fontsize=14)\n",
    "ax.set_ylabel(\"R∞\", fontsize=14)\n",
    "ax.set_title(\"Contagiosité(R∞) en fonction de T\")\n",
    "plt.show()"
   ]
  },
  {
   "cell_type": "markdown",
   "metadata": {},
   "source": [
    "Figure 3. On peut voir sur ce graphique que tant que la valeur de T n'est pas au-dessus de 0.125, la contagiosité est nulle dans la population. cela est du au fait que la probabilité qu'une personne en infecte une autre est trop faible pour permettre la propagation de l'agent pathogène. Par contre, une fois que cette valeur de T est dépassée, la contagiosité se met à augmenter rapidement jusqu'à atteindre un maximum de 0.99 lorsque T vaut 1."
   ]
  },
  {
   "cell_type": "markdown",
   "metadata": {},
   "source": [
    "### d)\n",
    "\n",
    "Résolvez numériquement l’équation (2.3.3) à l’aide d’implémentations personnelles de la méthode par relaxation\n",
    "et de la méthode de Newton-Raphson pour 20 valeurs de T uniformément distribuées dans l’intervalle [0, 1]. Illustrez\n",
    "vos résultats à l’aide d’un graphique comparant les solutions analytiques (indiquées avec des lignes de couleurs\n",
    "distinctes) aux solutions numériques obtenues avec différentes valeurs initiales de l’algorithme (symboles ; choisissez\n",
    "bien vos symboles pour que vos solutions soient bien visibles). Arrivez-vous à obtenir les trois solutions identifiées\n",
    "en a ? Pourquoi ? Considérez tracer l’équation (2.3.3) de même que la dérivée de f(u) en fonction de u et ce, pour\n",
    "quelques valeurs de T, pour appuyer vos conclusions. Vous pouvez aussi tracer les itérations successives de chacune\n",
    "des méthodes afin d’illustrer la manière dont elles convergent vers l’une ou l’autre des solutions (ex. : tracer un\n",
    "diagramme en toile d’araignée)."
   ]
  },
  {
   "cell_type": "code",
   "execution_count": null,
   "metadata": {},
   "outputs": [],
   "source": []
  }
 ],
 "metadata": {
  "kernelspec": {
   "display_name": "Python 3 (ipykernel)",
   "language": "python",
   "name": "python3"
  },
  "language_info": {
   "codemirror_mode": {
    "name": "ipython",
    "version": 3
   },
   "file_extension": ".py",
   "mimetype": "text/x-python",
   "name": "python",
   "nbconvert_exporter": "python",
   "pygments_lexer": "ipython3",
   "version": "3.11.5"
  }
 },
 "nbformat": 4,
 "nbformat_minor": 4
}
