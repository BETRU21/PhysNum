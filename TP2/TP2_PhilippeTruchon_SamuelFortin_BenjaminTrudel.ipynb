{
 "cells": [
  {
   "cell_type": "markdown",
   "metadata": {},
   "source": [
    "#  TP 2: \n",
    "\n",
    "### 18 mars 2024\n",
    "\n",
    "### Par Samuel Fortin, Philippe Truchon et Benjamin Trudel"
   ]
  },
  {
   "cell_type": "markdown",
   "metadata": {},
   "source": [
    "## TP2.1 Décomposition QR par la méthode Householder"
   ]
  },
  {
   "cell_type": "markdown",
   "metadata": {},
   "source": [
    "#### Fonctions générales"
   ]
  },
  {
   "cell_type": "code",
   "execution_count": 281,
   "metadata": {},
   "outputs": [],
   "source": [
    "import fnmatch\n",
    "import functools\n",
    "import os\n",
    "\n",
    "import matplotlib.pyplot as plt\n",
    "import numpy as np\n",
    "import seaborn as sns\n",
    "import math\n",
    "\n",
    "\n",
    "sns.set_theme(style=\"ticks\", palette=\"deep\")\n",
    "\n",
    "plt.rcParams[\"axes.spines.right\"] = False\n",
    "plt.rcParams[\"axes.spines.top\"] = False\n",
    "\n",
    "\n",
    "\n",
    "# Liste les noms de fichier d'un dossier\n",
    "def listNameOfFiles(directory: str, extension=\"csv\"):\n",
    "    found_files = []\n",
    "    for file in os.listdir(directory):\n",
    "        if fnmatch.fnmatch(file, f\"*.{extension}\"):\n",
    "            found_files.append(file)\n",
    "    return found_files\n",
    "\n",
    "\n",
    "# Lis et crée une matrice numpy à partir de chemin d'un fichier texte\n",
    "def readTXT(path: str):\n",
    "    fich = open(path, \"r\")\n",
    "    fich_str = list(fich)\n",
    "    fich.close()\n",
    "    x = []\n",
    "    for i in fich_str:\n",
    "        elem_str = i.replace(\"\\n\", \"\")\n",
    "        x.append(float(elem_str))\n",
    "    return np.array(x)\n",
    "\n",
    "sign = lambda x: math.copysign(1, x) # two will work\n",
    "\n",
    "path = os.path.abspath(\"\")\n",
    "files_name = listNameOfFiles(path)\n"
   ]
  },
  {
   "cell_type": "markdown",
   "metadata": {},
   "source": [
    "### Questions:"
   ]
  },
  {
   "cell_type": "markdown",
   "metadata": {},
   "source": [
    "### a)\n",
    "\n",
    "<i>À l’aide des équations (2.1.2) et (2.1.3), démontrez que les matrices de réflexion Q_i sont orthogonales.</i>"
   ]
  },
  {
   "cell_type": "markdown",
   "metadata": {},
   "source": [
    "Sachant que $v^T v = I$:\n",
    "\n",
    "\\begin{gather*}\n",
    " H_{m,i}H_{m,i}^T = H_{m,i}H_{m,i}\n",
    " \\\\\n",
    " H_{m,i}H_{m,i}^T = \\Big( I - \\frac{2 v v^T}{v^T v} \\Big) \\Big( I - \\frac{2 v v^T}{v^T v} \\Big)\n",
    " \\\\\n",
    " H_{m,i}H_{m,i}^T = I - \\frac{ 4 v v^T }{ v^T v } + \\frac{ 4 v (v^T v) v^T }{ (v^T v)^2 }\n",
    " \\\\\n",
    " H_{m,i}H_{m,i}^T = I - \\frac{ 4 v v^T }{ v^T v } + \\frac{ 4 v v^T }{ v^T v }\n",
    " \\\\\n",
    " H_{m,i}H_{m,i}^T = I\n",
    "\\end{gather*}  "
   ]
  },
  {
   "cell_type": "markdown",
   "metadata": {},
   "source": [
    "\n",
    "$$ Q_i = \\left [\n",
    "\\begin{matrix}\n",
    "I_i & 0 \\\\\n",
    "0 & H_{m,i} \n",
    "\\end{matrix}\n",
    "\\right ]$$\n",
    "\n",
    "En utilisant la forme générale du produit des matrices par blocs, on sait que:\n",
    "\n",
    "$$ M^T = \\left [\n",
    "\\begin{matrix}\n",
    "A^T & B^T \\\\\n",
    "C^T & D^T \n",
    "\\end{matrix}\n",
    "\\right ] $$\n",
    "\n",
    "Donc:\n",
    "\n",
    "$$ Q_i = \\left [\n",
    "\\begin{matrix}\n",
    "I_i & 0 \\\\\n",
    "0 & H_{m,i} \n",
    "\\end{matrix}\n",
    "\\right ] = \\left [\n",
    "\\begin{matrix}\n",
    "I_i^T & 0 \\\\\n",
    "0 & H_{m,i}^T \n",
    "\\end{matrix}\n",
    "\\right ] = Q_i^T$$\n",
    "\n",
    "\n",
    "\n"
   ]
  },
  {
   "cell_type": "markdown",
   "metadata": {},
   "source": [
    "### b)\n",
    "\n",
    "<i>Démontrez l’équation (2.1.5) et que la matrice Q est orthogonale.</i>\n",
    "\n",
    " "
   ]
  },
  {
   "cell_type": "markdown",
   "metadata": {},
   "source": [
    "En utilisant la propriété d'associativité : $(AB)^T = B^T A^T$ et sachant que $Q_{i}^T Q_{i} = I$\n",
    "\n",
    "\\begin{gather*}\n",
    "    Q = \\prod_{i=0}^{n-1} Q_i^T\n",
    "\\end{gather*}\n",
    "\n",
    "\\begin{gather*}\n",
    "    (\\prod_{i=0}^{n-1} Q_i)^T (\\prod_{i=0}^{n-1} Q_i) = (\\prod_{i=n-1}^{0} Q_i^T)(\\prod_{i=0}^{n-1} Q_i) = \\prod_{i=0}^{n-1} I = I\n",
    "\\end{gather*}\n",
    "\n",
    "La matrice Q est donc orthogonale."
   ]
  },
  {
   "cell_type": "markdown",
   "metadata": {},
   "source": [
    "### c)\n",
    "\n",
    "<i>Implémentez la fonction householder_qr qui prend en argument une matrice A et qui retourne les matrices Q\n",
    "et R obtenues par la méthode de Householder.</i>\n"
   ]
  },
  {
   "cell_type": "code",
   "execution_count": 282,
   "metadata": {},
   "outputs": [],
   "source": [
    "def householder_qr(A, inter=False):\n",
    "    m, n = A.shape\n",
    "    Q = np.identity(m)\n",
    "    for i in range(n):\n",
    "        H = np.identity(m)\n",
    "        x = A[i:, i]\n",
    "\n",
    "        e1 = np.zeros(len(x)).T\n",
    "        e1[0] = 1\n",
    "\n",
    "        v = np.array([x]).T+np.copysign(np.linalg.norm(x), x[0]) * np.array([e1]).T\n",
    "\n",
    "\n",
    "        Ht = np.identity(x.shape[0])\n",
    "\n",
    "        Ht -= (2 * (v @ v.T)/(v.T @ v))\n",
    "\n",
    "        H[i:, i:] = Ht\n",
    "        Q = Q @ H\n",
    "        A = H @ A\n",
    "        if inter:\n",
    "            print(f'A{i}:\\n', A.round(6)) \n",
    "    return Q, A"
   ]
  },
  {
   "cell_type": "markdown",
   "metadata": {},
   "source": [
    "### d)\n",
    "\n",
    "<i>À l’aide d’une matrice de dimension 4 × 3 de votre choix, testez votre fonction householder_qr et comparez les\n",
    "résultats obtenus avec ceux obtenus à l’aide de la fonction numpy.linalg.qr. Les matrices sont-elles exactement\n",
    "les mêmes ? Si non, est-ce un problème?</i>\n",
    "\n"
   ]
  },
  {
   "cell_type": "code",
   "execution_count": 283,
   "metadata": {},
   "outputs": [
    {
     "name": "stdout",
     "output_type": "stream",
     "text": [
      "[[5 7 2]\n",
      " [5 5 4]\n",
      " [5 1 6]\n",
      " [6 4 3]]\n",
      "Q:\n",
      " [[-0.474579 -0.674914 -0.043095 -0.563391]\n",
      " [-0.474579 -0.223616 -0.478351  0.704238]\n",
      " [-0.474579  0.67898  -0.409399 -0.382301]\n",
      " [-0.569495  0.182959  0.775704  0.201211]]\n",
      "R:\n",
      " [[-10.535654  -8.447506  -7.403432]\n",
      " [  0.        -4.431663   2.378461]\n",
      " [  0.        -0.        -2.128875]\n",
      " [  0.        -0.        -0.      ]]\n",
      "QRResult(Q=array([[-0.474579  , -0.67491386, -0.04309464, -0.56339055],\n",
      "       [-0.474579  , -0.22361604, -0.47835053,  0.70423818],\n",
      "       [-0.474579  ,  0.67897961, -0.4093991 , -0.38230073],\n",
      "       [-0.5694948 ,  0.18295858,  0.77570355,  0.20121091]]), R=array([[-10.53565375,  -8.44750616,  -7.40343237],\n",
      "       [  0.        ,  -4.4316633 ,   2.3784615 ],\n",
      "       [  0.        ,   0.        ,  -2.12887531],\n",
      "       [  0.        ,   0.        ,   0.        ]]))\n"
     ]
    }
   ],
   "source": [
    "a = np.random.randint(1,10,(4,3))\n",
    "print(a)\n",
    "Q, R = householder_qr(a)\n",
    "print('Q:\\n', Q.round(6))\n",
    "print('R:\\n', R.round(6))\n",
    "r2 = np.linalg.qr(a, mode='complete')\n",
    "print(r2)"
   ]
  },
  {
   "cell_type": "markdown",
   "metadata": {},
   "source": [
    "Les matrices sont les mêmes, mais la matrice Q pourrait avoir des signes différents selon la convention de signe utilisée qui menerait à la même matrice R."
   ]
  },
  {
   "cell_type": "markdown",
   "metadata": {},
   "source": [
    "### e)\n",
    "\n",
    "<i>À l’aide de la matrice utilisée en d, illustrez comment la multiplication successive des matrices Q_i triangularise\n",
    "progressivement la matrice A. Dans l’élan, assurez-vous que les matrices Q et R obtenues sont bien orthogonale et\n",
    "triangulaire supérieure, respectivement.</i>\n"
   ]
  },
  {
   "cell_type": "code",
   "execution_count": 284,
   "metadata": {},
   "outputs": [
    {
     "name": "stdout",
     "output_type": "stream",
     "text": [
      "A0:\n",
      " [[-10.535654  -8.447506  -7.403432]\n",
      " [  0.         0.028369   0.973596]\n",
      " [  0.        -3.971631   2.973596]\n",
      " [  0.        -1.965957  -0.631685]]\n",
      "A1:\n",
      " [[-10.535654  -8.447506  -7.403432]\n",
      " [  0.        -4.431663   2.378461]\n",
      " [  0.         0.         1.722573]\n",
      " [  0.        -0.        -1.250941]]\n",
      "A2:\n",
      " [[-10.535654  -8.447506  -7.403432]\n",
      " [  0.        -4.431663   2.378461]\n",
      " [  0.        -0.        -2.128875]\n",
      " [  0.        -0.        -0.      ]]\n",
      "[[ 1.00000000e+00  4.53915567e-17 -5.66396523e-17  8.45889556e-17]\n",
      " [ 4.53915567e-17  1.00000000e+00 -2.25141242e-16 -8.60167159e-17]\n",
      " [-5.66396523e-17 -2.25141242e-16  1.00000000e+00  1.19579461e-17]\n",
      " [ 8.45889556e-17 -8.60167159e-17  1.19579461e-17  1.00000000e+00]]\n"
     ]
    }
   ],
   "source": [
    "Q, R = householder_qr(a, inter=True)\n",
    "I = Q @ Q.T\n",
    "print(I)"
   ]
  },
  {
   "cell_type": "markdown",
   "metadata": {},
   "source": [
    "On oberve qu'à chaque itération la colonne la plus à gauche non triangulaire le devient en devenant des zéros en dessous de la diagonale. En même temps, on observe que la dernière matrice A qui est égale à R est triangulaire supérieur que tous les valeurs en dessous de la diagonale sont zéros. Finalement, on vérifie l'orthogonalité de Q en multipliant Q par sa transpose. Le résultat obtenu est la matrice identité comme prévu, confirmant l'orthogonalité. À noter, que les zéros dans ce cas ne sont pas exactement zéro à cause d'erreur numérique."
   ]
  },
  {
   "cell_type": "code",
   "execution_count": 285,
   "metadata": {},
   "outputs": [
    {
     "name": "stdout",
     "output_type": "stream",
     "text": [
      "[[1. 0. 0. 0.]\n",
      " [0. 1. 0. 0.]\n",
      " [0. 0. 1. 0.]\n",
      " [0. 0. 0. 1.]]\n"
     ]
    }
   ],
   "source": [
    "I[I< 1e-15] = 0\n",
    "print(I)"
   ]
  },
  {
   "cell_type": "markdown",
   "metadata": {},
   "source": [
    "## TP2.2 Mesures imprécises dans un jeu de bataille navale"
   ]
  },
  {
   "cell_type": "markdown",
   "metadata": {},
   "source": [
    "### a)\n",
    "\n",
    "<i>Modifiez votre code de décomposition QR pour qu’il retourne la décomposition QR réduite de la matrice d’entrée\n",
    "lorsque l’argument additionnel reduite=True lui est passé.</i>"
   ]
  },
  {
   "cell_type": "code",
   "execution_count": 286,
   "metadata": {},
   "outputs": [],
   "source": [
    "def householder_qr(A, inter=False, reduite=False):\n",
    "    m, n = A.shape\n",
    "    Q = np.identity(m)\n",
    "    for i in range(n):\n",
    "        H = np.identity(m)\n",
    "        x = A[i:, i]\n",
    "\n",
    "        e1 = np.zeros(len(x)).T\n",
    "        e1[0] = 1\n",
    "\n",
    "        v = np.array([x]).T+np.copysign(np.linalg.norm(x), x[0]) * np.array([e1]).T\n",
    "\n",
    "\n",
    "        Ht = np.identity(x.shape[0])\n",
    "\n",
    "        Ht -= (2 * (v @ v.T)/(v.T @ v))\n",
    "\n",
    "        H[i:, i:] = Ht\n",
    "        Q = Q @ H\n",
    "        A = H @ A\n",
    "        if inter:\n",
    "            print(f'A{i}:\\n', A.round(6)) \n",
    "    if reduite:\n",
    "        A = A[:n,:]\n",
    "    return Q, A"
   ]
  },
  {
   "cell_type": "markdown",
   "metadata": {},
   "source": [
    "### b)\n",
    "\n",
    "<i>Utilisez votre code pour résoudre approximativement l’équation (2.2.4). Vous utiliserez les données fournies dans\n",
    "le fichier bataille_navale_equipeXX.csv où vous remplacerez XX par votre numéro d’équipe dans la boîte de\n",
    "dépôt sur MonPortail. </i>"
   ]
  },
  {
   "cell_type": "markdown",
   "metadata": {},
   "source": [
    "### c)\n",
    "\n",
    "<i>Tracez les données (cercles noirs) et la solution estimée de la trajectoire(ligne pleine de la couleur de votre choix)\n",
    "donnée par l’équation (2.2.3). </i>"
   ]
  },
  {
   "cell_type": "markdown",
   "metadata": {},
   "source": [
    "### d)\n",
    "\n",
    "<i>Obtenez la position d’impact du projectile (à y = 0) en résolvant l’équation quadratique (2.2.3) pour x à l’aide\n",
    "d’une implémentation personnelle de la méthode de la bissection. Comparez votre solution avec celle obtenue en\n",
    "résolvant cette même équation analytiquement. Considérant que votre embarcation se situe à la position (x, y) =\n",
    "(0, 0), quelle est la distance horizontale vous séparant du point d’impact ?\n",
    " </i>"
   ]
  }
 ],
 "metadata": {
  "kernelspec": {
   "display_name": "Python 3 (ipykernel)",
   "language": "python",
   "name": "python3"
  },
  "language_info": {
   "codemirror_mode": {
    "name": "ipython",
    "version": 3
   },
   "file_extension": ".py",
   "mimetype": "text/x-python",
   "name": "python",
   "nbconvert_exporter": "python",
   "pygments_lexer": "ipython3",
   "version": "3.12.2"
  }
 },
 "nbformat": 4,
 "nbformat_minor": 4
}
