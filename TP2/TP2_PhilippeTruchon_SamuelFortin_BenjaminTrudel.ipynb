{
 "cells": [
  {
   "cell_type": "markdown",
   "metadata": {},
   "source": [
    "#  TP 2: \n",
    "\n",
    "### 18 mars 2024\n",
    "\n",
    "### Par Samuel Fortin, Philippe Truchon et Benjamin Trudel"
   ]
  },
  {
   "cell_type": "markdown",
   "metadata": {},
   "source": [
    "## TP2.1 Décomposition QR par la méthode Householder"
   ]
  },
  {
   "cell_type": "markdown",
   "metadata": {},
   "source": [
    "#### Fonctions générales"
   ]
  },
  {
   "cell_type": "code",
   "execution_count": 239,
   "metadata": {},
   "outputs": [],
   "source": [
    "import fnmatch\n",
    "import functools\n",
    "import os\n",
    "\n",
    "import matplotlib.pyplot as plt\n",
    "import numpy as np\n",
    "import seaborn as sns\n",
    "import math\n",
    "\n",
    "\n",
    "sns.set_theme(style=\"ticks\", palette=\"deep\")\n",
    "\n",
    "plt.rcParams[\"axes.spines.right\"] = False\n",
    "plt.rcParams[\"axes.spines.top\"] = False\n",
    "\n",
    "\n",
    "\n",
    "# Liste les noms de fichier d'un dossier\n",
    "def listNameOfFiles(directory: str, extension=\"csv\"):\n",
    "    found_files = []\n",
    "    for file in os.listdir(directory):\n",
    "        if fnmatch.fnmatch(file, f\"*.{extension}\"):\n",
    "            found_files.append(file)\n",
    "    return found_files\n",
    "\n",
    "\n",
    "# Lis et crée une matrice numpy à partir de chemin d'un fichier texte\n",
    "def readTXT(path: str):\n",
    "    fich = open(path, \"r\")\n",
    "    fich_str = list(fich)\n",
    "    fich.close()\n",
    "    x = []\n",
    "    for i in fich_str:\n",
    "        elem_str = i.replace(\"\\n\", \"\")\n",
    "        x.append(float(elem_str))\n",
    "    return np.array(x)\n",
    "\n",
    "sign = lambda x: math.copysign(1, x) # two will work\n",
    "\n",
    "path = os.path.abspath(\"\")\n",
    "files_name = listNameOfFiles(path)\n"
   ]
  },
  {
   "cell_type": "markdown",
   "metadata": {},
   "source": [
    "### Questions:"
   ]
  },
  {
   "cell_type": "markdown",
   "metadata": {},
   "source": [
    "### a)\n",
    "\n",
    "<i>À l’aide des équations (2.1.2) et (2.1.3), démontrez que les matrices de réflexion Q_i sont orthogonales.</i>"
   ]
  },
  {
   "cell_type": "markdown",
   "metadata": {},
   "source": [
    "Sachant que $v^T v = I$:\n",
    "\n",
    "\\begin{gather*}\n",
    " H_{m,i}H_{m,i}^T = H_{m,i}H_{m,i}\n",
    " \\\\\n",
    " H_{m,i}H_{m,i}^T = \\Big( I - \\frac{2 v v^T}{v^T v} \\Big) \\Big( I - \\frac{2 v v^T}{v^T v} \\Big)\n",
    " \\\\\n",
    " H_{m,i}H_{m,i}^T = I - \\frac{ 4 v v^T }{ v^T v } + \\frac{ 4 v (v^T v) v^T }{ (v^T v)^2 }\n",
    " \\\\\n",
    " H_{m,i}H_{m,i}^T = I - \\frac{ 4 v v^T }{ v^T v } + \\frac{ 4 v v^T }{ v^T v }\n",
    " \\\\\n",
    " H_{m,i}H_{m,i}^T = I\n",
    "\\end{gather*}  "
   ]
  },
  {
   "cell_type": "markdown",
   "metadata": {},
   "source": [
    "\n",
    "$$ Q_i = \\left [\n",
    "\\begin{matrix}\n",
    "I_i & 0 \\\\\n",
    "0 & H_{m,i} \n",
    "\\end{matrix}\n",
    "\\right ]$$\n",
    "\n",
    "En utilisant la forme générale du produit des matrices par blocs, on sait que:\n",
    "\n",
    "$$ M^T = \\left [\n",
    "\\begin{matrix}\n",
    "A^T & B^T \\\\\n",
    "C^T & D^T \n",
    "\\end{matrix}\n",
    "\\right ] $$\n",
    "\n",
    "Donc:\n",
    "\n",
    "$$ Q_i = \\left [\n",
    "\\begin{matrix}\n",
    "I_i & 0 \\\\\n",
    "0 & H_{m,i} \n",
    "\\end{matrix}\n",
    "\\right ] = \\left [\n",
    "\\begin{matrix}\n",
    "I_i^T & 0 \\\\\n",
    "0 & H_{m,i}^T \n",
    "\\end{matrix}\n",
    "\\right ] = Q_i^T$$\n",
    "\n",
    "\n",
    "\n"
   ]
  },
  {
   "cell_type": "markdown",
   "metadata": {},
   "source": [
    "### b)\n",
    "\n",
    "<i>Démontrez l’équation (2.1.5) et que la matrice Q est orthogonale.</i>\n",
    "\n",
    " "
   ]
  },
  {
   "cell_type": "markdown",
   "metadata": {},
   "source": [
    "En utilisant la propriété d'associativité : $(AB)^T = B^T A^T$ et sachant que $Q_{i}^T Q_{i} = I$\n",
    "\n",
    "\\begin{gather*}\n",
    "    Q = \\prod_{i=0}^{n-1} Q_i^T\n",
    "\\end{gather*}\n",
    "\n",
    "\\begin{gather*}\n",
    "    (\\prod_{i=0}^{n-1} Q_i)^T (\\prod_{i=0}^{n-1} Q_i) = (\\prod_{i=n-1}^{0} Q_i^T)(\\prod_{i=0}^{n-1} Q_i) = \\prod_{i=0}^{n-1} I = I\n",
    "\\end{gather*}\n",
    "\n",
    "La matrice Q est donc orthogonale."
   ]
  },
  {
   "cell_type": "markdown",
   "metadata": {},
   "source": [
    "### c)\n",
    "\n",
    "<i>Implémentez la fonction householder_qr qui prend en argument une matrice A et qui retourne les matrices Q\n",
    "et R obtenues par la méthode de Householder.</i>\n"
   ]
  },
  {
   "cell_type": "code",
   "execution_count": 240,
   "metadata": {},
   "outputs": [],
   "source": [
    "def householder_qr(A, inter=False):\n",
    "    m, n = A.shape\n",
    "    Q = np.identity(m)\n",
    "    for i in range(n):\n",
    "        H = np.identity(m)\n",
    "        x = A[i:, i]\n",
    "\n",
    "        e1 = np.zeros(len(x)).T\n",
    "        e1[0] = 1\n",
    "\n",
    "        v = np.array([x]).T+np.copysign(np.linalg.norm(x), x[0]) * np.array([e1]).T\n",
    "\n",
    "\n",
    "        Ht = np.identity(x.shape[0])\n",
    "\n",
    "        Ht -= (2 * (v @ v.T)/(v.T @ v))\n",
    "\n",
    "        H[i:, i:] = Ht\n",
    "        Q = Q @ H\n",
    "        A = H @ A\n",
    "        if inter:\n",
    "            print(f'A{i}:\\n', A.round(6)) \n",
    "    return Q, A"
   ]
  },
  {
   "cell_type": "markdown",
   "metadata": {},
   "source": [
    "### d)\n",
    "\n",
    "<i>À l’aide d’une matrice de dimension 4 × 3 de votre choix, testez votre fonction householder_qr et comparez les\n",
    "résultats obtenus avec ceux obtenus à l’aide de la fonction numpy.linalg.qr. Les matrices sont-elles exactement\n",
    "les mêmes ? Si non, est-ce un problème?</i>\n",
    "\n"
   ]
  },
  {
   "cell_type": "code",
   "execution_count": 241,
   "metadata": {},
   "outputs": [
    {
     "name": "stdout",
     "output_type": "stream",
     "text": [
      "[[7 5 3]\n",
      " [6 3 8]\n",
      " [6 1 4]\n",
      " [3 1 5]]\n",
      "Q:\n",
      " [[-0.613941  0.655208 -0.403697  0.175524]\n",
      " [-0.526235  0.054601  0.653604 -0.541199]\n",
      " [-0.526235 -0.734075 -0.422921 -0.073135]\n",
      " [-0.263117 -0.169869  0.480592  0.819113]]\n",
      "R:\n",
      " [[-11.401754  -5.43776   -9.472227]\n",
      " [  0.         2.535896  -1.383216]\n",
      " [  0.         0.         4.729021]\n",
      " [ -0.        -0.        -0.      ]]\n",
      "QRResult(Q=array([[-0.61394061,  0.65520762, -0.40369689,  0.17552416],\n",
      "       [-0.52623481,  0.05460063,  0.65360448, -0.54119948],\n",
      "       [-0.52623481, -0.7340752 , -0.42292055, -0.07313506],\n",
      "       [-0.26311741, -0.16986864,  0.48059153,  0.81911273]]), R=array([[-11.40175425,  -5.43775972,  -9.47222661],\n",
      "       [  0.        ,   2.53589614,  -1.38321608],\n",
      "       [  0.        ,   0.        ,   4.72902066],\n",
      "       [  0.        ,   0.        ,   0.        ]]))\n"
     ]
    }
   ],
   "source": [
    "a = np.random.randint(1,10,(4,3))\n",
    "print(a)\n",
    "Q, R = householder_qr(a)\n",
    "print('Q:\\n', Q.round(6))\n",
    "print('R:\\n', R.round(6))\n",
    "r2 = np.linalg.qr(a, mode='complete')\n",
    "print(r2)"
   ]
  },
  {
   "cell_type": "markdown",
   "metadata": {},
   "source": [
    "Les matrices sont les mêmes, mais la matrice Q pourrait avoir des signes différents selon la convention de signe utilisée qui menerait à la même matrice R."
   ]
  },
  {
   "cell_type": "markdown",
   "metadata": {},
   "source": [
    "### e)\n",
    "\n",
    "<i>À l’aide de la matrice utilisée en d, illustrez comment la multiplication successive des matrices Q_i triangularise\n",
    "progressivement la matrice A. Dans l’élan, assurez-vous que les matrices Q et R obtenues sont bien orthogonale et\n",
    "triangulaire supérieure, respectivement.</i>\n"
   ]
  },
  {
   "cell_type": "code",
   "execution_count": 242,
   "metadata": {},
   "outputs": [
    {
     "name": "stdout",
     "output_type": "stream",
     "text": [
      "A0:\n",
      " [[-11.401754  -5.43776   -9.472227]\n",
      " [  0.        -0.403293   3.933357]\n",
      " [ -0.        -2.403293  -0.066643]\n",
      " [ -0.        -0.701646   2.966679]]\n",
      "A1:\n",
      " [[-11.401754  -5.43776   -9.472227]\n",
      " [  0.         2.535896  -1.383216]\n",
      " [ -0.        -0.        -4.413856]\n",
      " [ -0.        -0.         1.6975  ]]\n",
      "A2:\n",
      " [[-11.401754  -5.43776   -9.472227]\n",
      " [  0.         2.535896  -1.383216]\n",
      " [  0.         0.         4.729021]\n",
      " [ -0.        -0.        -0.      ]]\n",
      "[[ 1.00000000e+00  1.12650624e-16  1.49590087e-17  9.33017988e-18]\n",
      " [ 1.12650624e-16  1.00000000e+00  6.91451013e-18 -6.09758937e-17]\n",
      " [ 1.49590087e-17  6.91451013e-18  1.00000000e+00  2.95043675e-17]\n",
      " [ 9.33017988e-18 -6.09758937e-17  2.95043675e-17  1.00000000e+00]]\n"
     ]
    }
   ],
   "source": [
    "Q, R = householder_qr(a, inter=True)\n",
    "I = Q @ Q.T\n",
    "print(I)"
   ]
  },
  {
   "cell_type": "markdown",
   "metadata": {},
   "source": [
    "On oberve qu'à chaque itération la colonne la plus à gauche non triangulaire le devient en devenant des zéros en dessous de la diagonale. En même temps, on observe que la dernière matrice A qui est égale à R est triangulaire supérieur que tous les valeurs en dessous de la diagonale sont zéros. Finalement, on vérifie l'orthogonalité de Q en multipliant Q par sa transpose. Le résultat obtenu est la matrice identité comme prévu, confirmant l'orthogonalité. À noter, que les zéros dans ce cas ne sont pas exactement zéro à cause d'erreur numérique."
   ]
  },
  {
   "cell_type": "code",
   "execution_count": 243,
   "metadata": {},
   "outputs": [
    {
     "name": "stdout",
     "output_type": "stream",
     "text": [
      "[[1. 0. 0. 0.]\n",
      " [0. 1. 0. 0.]\n",
      " [0. 0. 1. 0.]\n",
      " [0. 0. 0. 1.]]\n"
     ]
    }
   ],
   "source": [
    "I[I< 1e-15] = 0\n",
    "print(I)"
   ]
  }
 ],
 "metadata": {
  "kernelspec": {
   "display_name": "Python 3 (ipykernel)",
   "language": "python",
   "name": "python3"
  },
  "language_info": {
   "codemirror_mode": {
    "name": "ipython",
    "version": 3
   },
   "file_extension": ".py",
   "mimetype": "text/x-python",
   "name": "python",
   "nbconvert_exporter": "python",
   "pygments_lexer": "ipython3",
   "version": "3.12.2"
  }
 },
 "nbformat": 4,
 "nbformat_minor": 4
}
