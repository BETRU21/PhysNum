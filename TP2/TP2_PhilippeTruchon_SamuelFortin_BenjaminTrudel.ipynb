{
 "cells": [
  {
   "cell_type": "markdown",
   "metadata": {},
   "source": [
    "#  TP 2: \n",
    "\n",
    "### 18 mars 2024\n",
    "\n",
    "### Par Samuel Fortin, Philippe Truchon et Benjamin Trudel"
   ]
  },
  {
   "cell_type": "markdown",
   "metadata": {},
   "source": [
    "## TP2.1 Décomposition QR par la méthode Householder"
   ]
  },
  {
   "cell_type": "markdown",
   "metadata": {},
   "source": [
    "#### Fonctions générales"
   ]
  },
  {
   "cell_type": "code",
   "execution_count": 350,
   "metadata": {},
   "outputs": [],
   "source": [
    "import fnmatch\n",
    "import functools\n",
    "import os\n",
    "\n",
    "import matplotlib.pyplot as plt\n",
    "import numpy as np\n",
    "import seaborn as sns\n",
    "import math\n",
    "\n",
    "\n",
    "sns.set_theme(style=\"ticks\", palette=\"deep\")\n",
    "\n",
    "plt.rcParams[\"axes.spines.right\"] = False\n",
    "plt.rcParams[\"axes.spines.top\"] = False\n",
    "\n",
    "\n",
    "\n",
    "# Liste les noms de fichier d'un dossier\n",
    "def listNameOfFiles(directory: str, extension=\"csv\"):\n",
    "    found_files = []\n",
    "    for file in os.listdir(directory):\n",
    "        if fnmatch.fnmatch(file, f\"*.{extension}\"):\n",
    "            found_files.append(file)\n",
    "    return found_files\n",
    "\n",
    "\n",
    "# Lis et crée une matrice numpy à partir de chemin d'un fichier texte\n",
    "def readTXT(path: str, header):\n",
    "    fich = open(path, \"r\")\n",
    "    fich_str = list(fich)\n",
    "    fich.close()\n",
    "    x = []\n",
    "    for i in fich_str[header:]:\n",
    "        elem_str = i.replace(\"\\n\", \"\")\n",
    "        x.append(float(elem_str))\n",
    "    return np.array(x)\n",
    "\n",
    "def readcsv(path: str, header):\n",
    "    arr = np.loadtxt(path,\n",
    "                 delimiter=\",\", dtype=float, skiprows=header)\n",
    "    return arr\n",
    "\n",
    "\n",
    "path = os.path.abspath(\"\")\n",
    "files_name = listNameOfFiles(path)\n"
   ]
  },
  {
   "cell_type": "markdown",
   "metadata": {},
   "source": [
    "### Questions:"
   ]
  },
  {
   "cell_type": "markdown",
   "metadata": {},
   "source": [
    "### a)\n",
    "\n",
    "<i>À l’aide des équations (2.1.2) et (2.1.3), démontrez que les matrices de réflexion Q_i sont orthogonales.</i>"
   ]
  },
  {
   "cell_type": "markdown",
   "metadata": {},
   "source": [
    "Sachant que $v^T v = I$:\n",
    "\n",
    "\\begin{gather*}\n",
    " H_{m,i}H_{m,i}^T = H_{m,i}H_{m,i}\n",
    " \\\\\n",
    " H_{m,i}H_{m,i}^T = \\Big( I - \\frac{2 v v^T}{v^T v} \\Big) \\Big( I - \\frac{2 v v^T}{v^T v} \\Big)\n",
    " \\\\\n",
    " H_{m,i}H_{m,i}^T = I - \\frac{ 4 v v^T }{ v^T v } + \\frac{ 4 v (v^T v) v^T }{ (v^T v)^2 }\n",
    " \\\\\n",
    " H_{m,i}H_{m,i}^T = I - \\frac{ 4 v v^T }{ v^T v } + \\frac{ 4 v v^T }{ v^T v }\n",
    " \\\\\n",
    " H_{m,i}H_{m,i}^T = I\n",
    "\\end{gather*}  "
   ]
  },
  {
   "cell_type": "markdown",
   "metadata": {},
   "source": [
    "\n",
    "$$ Q_i = \\left [\n",
    "\\begin{matrix}\n",
    "I_i & 0 \\\\\n",
    "0 & H_{m,i} \n",
    "\\end{matrix}\n",
    "\\right ]$$\n",
    "\n",
    "En utilisant la forme générale du produit des matrices par blocs, on sait que:\n",
    "\n",
    "$$ M^T = \\left [\n",
    "\\begin{matrix}\n",
    "A^T & B^T \\\\\n",
    "C^T & D^T \n",
    "\\end{matrix}\n",
    "\\right ] $$\n",
    "\n",
    "Donc:\n",
    "\n",
    "$$ Q_i = \\left [\n",
    "\\begin{matrix}\n",
    "I_i & 0 \\\\\n",
    "0 & H_{m,i} \n",
    "\\end{matrix}\n",
    "\\right ] = \\left [\n",
    "\\begin{matrix}\n",
    "I_i^T & 0 \\\\\n",
    "0 & H_{m,i}^T \n",
    "\\end{matrix}\n",
    "\\right ] = Q_i^T$$\n",
    "\n",
    "\n",
    "\n"
   ]
  },
  {
   "cell_type": "markdown",
   "metadata": {},
   "source": [
    "### b)\n",
    "\n",
    "<i>Démontrez l’équation (2.1.5) et que la matrice Q est orthogonale.</i>\n",
    "\n",
    " "
   ]
  },
  {
   "cell_type": "markdown",
   "metadata": {},
   "source": [
    "En utilisant la propriété d'associativité : $(AB)^T = B^T A^T$ et sachant que $Q_{i}^T Q_{i} = I$\n",
    "\n",
    "\\begin{gather*}\n",
    "    Q = \\prod_{i=0}^{n-1} Q_i^T\n",
    "\\end{gather*}\n",
    "\n",
    "\\begin{gather*}\n",
    "    (\\prod_{i=0}^{n-1} Q_i)^T (\\prod_{i=0}^{n-1} Q_i) = (\\prod_{i=n-1}^{0} Q_i^T)(\\prod_{i=0}^{n-1} Q_i) = \\prod_{i=0}^{n-1} I = I\n",
    "\\end{gather*}\n",
    "\n",
    "La matrice Q est donc orthogonale."
   ]
  },
  {
   "cell_type": "markdown",
   "metadata": {},
   "source": [
    "### c)\n",
    "\n",
    "<i>Implémentez la fonction householder_qr qui prend en argument une matrice A et qui retourne les matrices Q\n",
    "et R obtenues par la méthode de Householder.</i>\n"
   ]
  },
  {
   "cell_type": "code",
   "execution_count": 351,
   "metadata": {},
   "outputs": [],
   "source": [
    "def householder_qr(A, inter=False):\n",
    "    m, n = A.shape\n",
    "    Q = np.identity(m)\n",
    "    for i in range(n):\n",
    "        H = np.identity(m)\n",
    "        x = A[i:, i]\n",
    "\n",
    "        e1 = np.zeros(len(x)).T\n",
    "        e1[0] = 1\n",
    "\n",
    "        v = np.array([x]).T+np.copysign(np.linalg.norm(x), x[0]) * np.array([e1]).T\n",
    "\n",
    "\n",
    "        Ht = np.identity(x.shape[0])\n",
    "\n",
    "        Ht -= (2 * (v @ v.T)/(v.T @ v))\n",
    "\n",
    "        H[i:, i:] = Ht\n",
    "        Q = Q @ H\n",
    "        A = H @ A\n",
    "        if inter:\n",
    "            print(f'A{i}:\\n', A.round(6)) \n",
    "    return Q, A"
   ]
  },
  {
   "cell_type": "markdown",
   "metadata": {},
   "source": [
    "### d)\n",
    "\n",
    "<i>À l’aide d’une matrice de dimension 4 × 3 de votre choix, testez votre fonction householder_qr et comparez les\n",
    "résultats obtenus avec ceux obtenus à l’aide de la fonction numpy.linalg.qr. Les matrices sont-elles exactement\n",
    "les mêmes ? Si non, est-ce un problème?</i>\n",
    "\n"
   ]
  },
  {
   "cell_type": "code",
   "execution_count": 352,
   "metadata": {},
   "outputs": [
    {
     "name": "stdout",
     "output_type": "stream",
     "text": [
      "[[7 3 4]\n",
      " [9 4 7]\n",
      " [5 2 7]\n",
      " [1 9 2]]\n",
      "Q:\n",
      " [[-0.560449 -0.048025  0.493884 -0.663076]\n",
      " [-0.720577 -0.045024  0.097585  0.684996]\n",
      " [-0.40032  -0.051027 -0.863886 -0.301398]\n",
      " [-0.080064  0.996525 -0.016025 -0.01644 ]]\n",
      "R:\n",
      " [[-12.489996  -6.08487  -10.248202]\n",
      " [  0.         8.542503   1.128595]\n",
      " [  0.         0.        -3.420619]\n",
      " [ -0.        -0.        -0.      ]]\n",
      "QRResult(Q=array([[-0.56044854, -0.04802532,  0.49388393, -0.66307592],\n",
      "       [-0.72057669, -0.04502373,  0.09758522,  0.68499578],\n",
      "       [-0.40032038, -0.0510269 , -0.86388599, -0.30139814],\n",
      "       [-0.08006408,  0.99652531, -0.01602452, -0.0164399 ]]), R=array([[-12.489996  ,  -6.08486984, -10.24820184],\n",
      "       [  0.        ,   8.54250309,   1.12859493],\n",
      "       [  0.        ,   0.        ,  -3.42061873],\n",
      "       [  0.        ,   0.        ,   0.        ]]))\n"
     ]
    }
   ],
   "source": [
    "a = np.random.randint(1,10,(4,3))\n",
    "print(a)\n",
    "Q, R = householder_qr(a)\n",
    "print('Q:\\n', Q.round(6))\n",
    "print('R:\\n', R.round(6))\n",
    "r2 = np.linalg.qr(a, mode='complete')\n",
    "print(r2)"
   ]
  },
  {
   "cell_type": "markdown",
   "metadata": {},
   "source": [
    "Les matrices sont les mêmes, mais la matrice Q pourrait avoir des signes différents selon la convention de signe utilisée qui menerait à la même matrice R."
   ]
  },
  {
   "cell_type": "markdown",
   "metadata": {},
   "source": [
    "### e)\n",
    "\n",
    "<i>À l’aide de la matrice utilisée en d, illustrez comment la multiplication successive des matrices Q_i triangularise\n",
    "progressivement la matrice A. Dans l’élan, assurez-vous que les matrices Q et R obtenues sont bien orthogonale et\n",
    "triangulaire supérieure, respectivement.</i>\n"
   ]
  },
  {
   "cell_type": "code",
   "execution_count": 353,
   "metadata": {},
   "outputs": [
    {
     "name": "stdout",
     "output_type": "stream",
     "text": [
      "A0:\n",
      " [[-12.489996  -6.08487  -10.248202]\n",
      " [ -0.        -0.195169   0.420531]\n",
      " [ -0.        -0.330649   3.34474 ]\n",
      " [  0.         8.53387    1.268948]]\n",
      "A1:\n",
      " [[-12.489996  -6.08487  -10.248202]\n",
      " [  0.         8.542503   1.128595]\n",
      " [ -0.         0.         3.371534]\n",
      " [ -0.        -0.         0.5774  ]]\n",
      "A2:\n",
      " [[-12.489996  -6.08487  -10.248202]\n",
      " [  0.         8.542503   1.128595]\n",
      " [  0.         0.        -3.420619]\n",
      " [ -0.        -0.        -0.      ]]\n",
      "[[ 1.00000000e+00  7.09177005e-17  1.81596931e-16  9.99107517e-17]\n",
      " [ 7.09177005e-17  1.00000000e+00  2.73652423e-17 -6.79043042e-17]\n",
      " [ 1.81596931e-16  2.73652423e-17  1.00000000e+00 -7.59132184e-19]\n",
      " [ 9.99107517e-17 -6.79043042e-17 -7.59132184e-19  1.00000000e+00]]\n"
     ]
    }
   ],
   "source": [
    "Q, R = householder_qr(a, inter=True)\n",
    "I = Q @ Q.T\n",
    "print(I)"
   ]
  },
  {
   "cell_type": "markdown",
   "metadata": {},
   "source": [
    "On oberve qu'à chaque itération la colonne la plus à gauche non triangulaire le devient en devenant des zéros en dessous de la diagonale. En même temps, on observe que la dernière matrice A qui est égale à R est triangulaire supérieur que tous les valeurs en dessous de la diagonale sont zéros. Finalement, on vérifie l'orthogonalité de Q en multipliant Q par sa transpose. Le résultat obtenu est la matrice identité comme prévu, confirmant l'orthogonalité. À noter, que les zéros dans ce cas ne sont pas exactement zéro à cause d'erreur numérique."
   ]
  },
  {
   "cell_type": "code",
   "execution_count": 354,
   "metadata": {},
   "outputs": [
    {
     "name": "stdout",
     "output_type": "stream",
     "text": [
      "[[1. 0. 0. 0.]\n",
      " [0. 1. 0. 0.]\n",
      " [0. 0. 1. 0.]\n",
      " [0. 0. 0. 1.]]\n"
     ]
    }
   ],
   "source": [
    "I[I< 1e-15] = 0\n",
    "print(I)"
   ]
  },
  {
   "cell_type": "markdown",
   "metadata": {},
   "source": [
    "## TP2.2 Mesures imprécises dans un jeu de bataille navale"
   ]
  },
  {
   "cell_type": "markdown",
   "metadata": {},
   "source": [
    "### a)\n",
    "\n",
    "<i>Modifiez votre code de décomposition QR pour qu’il retourne la décomposition QR réduite de la matrice d’entrée\n",
    "lorsque l’argument additionnel reduite=True lui est passé.</i>"
   ]
  },
  {
   "cell_type": "code",
   "execution_count": 355,
   "metadata": {},
   "outputs": [],
   "source": [
    "def householder_qr(A, inter=False, reduite=False):\n",
    "    m, n = A.shape\n",
    "    Q = np.identity(m)\n",
    "    for i in range(n):\n",
    "        H = np.identity(m)\n",
    "        x = A[i:, i]\n",
    "\n",
    "        e1 = np.zeros(len(x)).T\n",
    "        e1[0] = 1\n",
    "\n",
    "        v = np.array([x]).T+np.copysign(np.linalg.norm(x), x[0]) * np.array([e1]).T\n",
    "\n",
    "\n",
    "        Ht = np.identity(x.shape[0])\n",
    "\n",
    "        Ht -= (2 * (v @ v.T)/(v.T @ v))\n",
    "\n",
    "        H[i:, i:] = Ht\n",
    "        Q = Q @ H\n",
    "        A = H @ A\n",
    "        if inter:\n",
    "            print(f'A{i}:\\n', A.round(6)) \n",
    "    if reduite:\n",
    "        A = A[:n,:]\n",
    "    return Q, A"
   ]
  },
  {
   "cell_type": "markdown",
   "metadata": {},
   "source": [
    "### b)\n",
    "\n",
    "<i>Utilisez votre code pour résoudre approximativement l’équation (2.2.4). Vous utiliserez les données fournies dans\n",
    "le fichier bataille_navale_equipeXX.csv où vous remplacerez XX par votre numéro d’équipe dans la boîte de\n",
    "dépôt sur MonPortail. </i>"
   ]
  },
  {
   "cell_type": "code",
   "execution_count": 394,
   "metadata": {},
   "outputs": [
    {
     "name": "stdout",
     "output_type": "stream",
     "text": [
      "Q:\n",
      " [[-0.353553 -0.540046  0.54002   0.007608  0.035958 -0.038041 -0.214222\n",
      "  -0.492991]\n",
      " [-0.353553 -0.385767  0.077167  0.076219  0.238082  0.370226  0.47257\n",
      "   0.545296]\n",
      " [-0.353553 -0.23151  -0.23139  -0.522749 -0.512008 -0.373887 -0.108636\n",
      "   0.284342]\n",
      " [-0.353553 -0.077124 -0.385793  0.792707 -0.210879 -0.181231 -0.118408\n",
      "  -0.022267]\n",
      " [-0.353553  0.07718  -0.385761 -0.219552  0.757668 -0.230617 -0.184454\n",
      "  -0.10373 ]\n",
      " [-0.353553  0.231497 -0.231398 -0.171998 -0.213082  0.764175 -0.240227\n",
      "  -0.226286]\n",
      " [-0.353553  0.385695  0.077007 -0.064731 -0.123217 -0.196897  0.714307\n",
      "  -0.389787]\n",
      " [-0.353553  0.540075  0.540148  0.102495  0.027477 -0.113728 -0.320931\n",
      "   0.405423]]\n",
      "R:\n",
      " [[-2.82842700e+00 -6.75289279e+03 -1.61968471e+07]\n",
      " [ 0.00000000e+00 -4.58301915e+02 -2.18840078e+06]\n",
      " [-0.00000000e+00  0.00000000e+00  6.48168046e+04]]\n",
      "[-538.11852814 1237.53158008 -718.36728091 -144.9052583  -169.97884223\n",
      " -106.33410749   71.18250068  337.40266231]\n"
     ]
    }
   ],
   "source": [
    "data = readcsv(f'{path}\\\\{files_name[0]}', header=1)\n",
    "x = data[:,0]\n",
    "Y = data[:,1]\n",
    "X = np.ones((len(x), 3))\n",
    "X[:,1] = x\n",
    "X[:,2] = x**2\n",
    "\n",
    "Q,R = householder_qr(X, reduite=True)\n",
    "print('Q:\\n', Q.round(6))\n",
    "print('R:\\n', R.round(6))\n",
    "\n",
    "\n",
    "right = Q @ Y\n",
    "print(right)\n",
    "\n"
   ]
  },
  {
   "cell_type": "markdown",
   "metadata": {},
   "source": [
    "### c)\n",
    "\n",
    "<i>Tracez les données (cercles noirs) et la solution estimée de la trajectoire(ligne pleine de la couleur de votre choix)\n",
    "donnée par l’équation (2.2.3). </i>"
   ]
  },
  {
   "cell_type": "markdown",
   "metadata": {},
   "source": [
    "### d)\n",
    "\n",
    "<i>Obtenez la position d’impact du projectile (à y = 0) en résolvant l’équation quadratique (2.2.3) pour x à l’aide\n",
    "d’une implémentation personnelle de la méthode de la bissection. Comparez votre solution avec celle obtenue en\n",
    "résolvant cette même équation analytiquement. Considérant que votre embarcation se situe à la position (x, y) =\n",
    "(0, 0), quelle est la distance horizontale vous séparant du point d’impact ?\n",
    " </i>"
   ]
  }
 ],
 "metadata": {
  "kernelspec": {
   "display_name": "Python 3 (ipykernel)",
   "language": "python",
   "name": "python3"
  },
  "language_info": {
   "codemirror_mode": {
    "name": "ipython",
    "version": 3
   },
   "file_extension": ".py",
   "mimetype": "text/x-python",
   "name": "python",
   "nbconvert_exporter": "python",
   "pygments_lexer": "ipython3",
   "version": "3.12.2"
  }
 },
 "nbformat": 4,
 "nbformat_minor": 4
}
