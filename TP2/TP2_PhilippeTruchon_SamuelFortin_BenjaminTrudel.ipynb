{
 "cells": [
  {
   "cell_type": "markdown",
   "metadata": {},
   "source": [
    "#  TP 2: \n",
    "\n",
    "### 18 mars 2024\n",
    "\n",
    "### Par Samuel Fortin, Philippe Truchon et Benjamin Trudel"
   ]
  },
  {
   "cell_type": "markdown",
   "metadata": {},
   "source": [
    "## TP2.1 Décomposition QR par la méthode Householder"
   ]
  },
  {
   "cell_type": "markdown",
   "metadata": {},
   "source": [
    "#### Fonctions générales"
   ]
  },
  {
   "cell_type": "code",
   "execution_count": 47,
   "metadata": {},
   "outputs": [],
   "source": [
    "import fnmatch\n",
    "import functools\n",
    "import os\n",
    "\n",
    "import matplotlib.pyplot as plt\n",
    "import numpy as np\n",
    "import seaborn as sns\n",
    "import math\n",
    "\n",
    "\n",
    "sns.set_theme(style=\"ticks\", palette=\"deep\")\n",
    "\n",
    "plt.rcParams[\"axes.spines.right\"] = False\n",
    "plt.rcParams[\"axes.spines.top\"] = False\n",
    "\n",
    "\n",
    "\n",
    "# Liste les noms de fichier d'un dossier\n",
    "def listNameOfFiles(directory: str, extension=\"csv\"):\n",
    "    found_files = []\n",
    "    for file in os.listdir(directory):\n",
    "        if fnmatch.fnmatch(file, f\"*.{extension}\"):\n",
    "            found_files.append(file)\n",
    "    return found_files\n",
    "\n",
    "\n",
    "# Lis et crée une matrice numpy à partir de chemin d'un fichier texte\n",
    "def readTXT(path: str):\n",
    "    fich = open(path, \"r\")\n",
    "    fich_str = list(fich)\n",
    "    fich.close()\n",
    "    x = []\n",
    "    for i in fich_str:\n",
    "        elem_str = i.replace(\"\\n\", \"\")\n",
    "        x.append(float(elem_str))\n",
    "    return np.array(x)\n",
    "\n",
    "sign = lambda x: math.copysign(1, x) # two will work\n",
    "\n",
    "path = os.path.abspath(\"\")\n",
    "files_name = listNameOfFiles(path)\n"
   ]
  },
  {
   "cell_type": "markdown",
   "metadata": {},
   "source": [
    "### Questions:"
   ]
  },
  {
   "cell_type": "markdown",
   "metadata": {},
   "source": [
    "### a)\n",
    "\n",
    "<i>À l’aide des équations (2.1.2) et (2.1.3), démontrez que les matrices de réflexion Q_i sont orthogonales.</i>"
   ]
  },
  {
   "cell_type": "markdown",
   "metadata": {},
   "source": [
    "### b)\n",
    "\n",
    "<i>Démontrez l’équation (2.1.5) et que la matrice Q est orthogonale.</i>\n",
    "\n",
    " "
   ]
  },
  {
   "cell_type": "markdown",
   "metadata": {},
   "source": [
    "### c)\n",
    "\n",
    "<i>Implémentez la fonction householder_qr qui prend en argument une matrice A et qui retourne les matrices Q\n",
    "et R obtenues par la méthode de Householder.</i>\n"
   ]
  },
  {
   "cell_type": "code",
   "execution_count": 48,
   "metadata": {},
   "outputs": [
    {
     "name": "stdout",
     "output_type": "stream",
     "text": [
      "(array([[ 21.,  20.,  20.,  20.],\n",
      "       [140., 143., 142., 142.],\n",
      "       [140., 142., 143., 142.],\n",
      "       [140., 142., 142., 143.]]), array([[  0.,   1.,   2.],\n",
      "       [ 39.,  46.,  53.],\n",
      "       [216., 251., 286.],\n",
      "       [219., 254., 289.]]))\n",
      "QRResult(Q=array([[ 0.        , -0.83666003,  0.5301023 , -0.13780983],\n",
      "       [-0.26726124, -0.47809144, -0.60408569,  0.57886137],\n",
      "       [-0.53452248, -0.11952286, -0.38213553, -0.74429324],\n",
      "       [-0.80178373,  0.23904572,  0.45611892,  0.30324171]]), R=array([[-1.12249722e+01, -1.28285396e+01, -1.44321071e+01],\n",
      "       [ 0.00000000e+00, -1.19522861e+00, -2.39045722e+00],\n",
      "       [ 0.00000000e+00,  0.00000000e+00,  3.48440273e-15],\n",
      "       [ 0.00000000e+00,  0.00000000e+00,  0.00000000e+00]]))\n"
     ]
    }
   ],
   "source": [
    "def householder_qr(A: np.ndarray):\n",
    "\n",
    "    m = np.shape(A)[0]\n",
    "    n = np.shape(A)[1]\n",
    "    R = A.copy()\n",
    "    x = A[:,0]\n",
    "    e1 = np.zeros(m).T\n",
    "    e1[0] = 1\n",
    "    v = (sign(x[0])*np.abs(x[1]) * e1)+x # Je crois que l'erreur est ici ou certaine opération doivent ce faire avec une copie de A\n",
    "    H = np.identity(m)\n",
    "    H[0:, 0:] -= -2*(v @ v.T)/(v.T @ v)\n",
    "    \n",
    "    Q = np.identity(m)\n",
    "    Q = H @ Q\n",
    "    Q_i = [Q]\n",
    "\n",
    "    for i in range(1, n):\n",
    "        s_0 = Q_i[0]\n",
    "        for s in range(1, len(Q_i)):\n",
    "            Q_it = Q_i[s] @ s_0\n",
    "        try:\n",
    "            x = Q_it @ A\n",
    "            x = x[:,i][-(m-i):]\n",
    "        except UnboundLocalError:\n",
    "            Q_it = s_0\n",
    "            x = Q_it @ A  \n",
    "            x = x[:,i][-(m-i):]\n",
    "        s_0 = Q_it\n",
    "\n",
    "\n",
    "        v = (sign(x[0])*np.abs(x[1]))+x\n",
    "        v[0] = 1\n",
    "        H = np.identity(m)\n",
    "        H[i:, i:] -= -2*(v @ v.T)/(v.T @ v)\n",
    "\n",
    "\n",
    "        Q = np.identity(m)\n",
    "        Q = H @ Q\n",
    "        R = H @ R\n",
    "        Q_i.append(np.array(Q))\n",
    "\n",
    "    s_0 = Q_i[0]\n",
    "    for s in range(1, len(Q_i)):\n",
    "        Q_it = Q_i[s-1] @ s_0\n",
    "        s_0 = Q_it\n",
    "\n",
    "    return Q_it, R\n",
    "        \n",
    "r1 = householder_qr(np.arange(12).reshape(4,3))\n",
    "r2 = np.linalg.qr(np.arange(12).reshape(4,3), mode='complete')\n",
    "print(r1)\n",
    "print(r2)"
   ]
  },
  {
   "cell_type": "code",
   "execution_count": 56,
   "metadata": {},
   "outputs": [
    {
     "name": "stdout",
     "output_type": "stream",
     "text": [
      "q:\n",
      " [[ 0.       -0.83666  -0.239797 -0.49244 ]\n",
      " [-0.267261 -0.478091  0.686772  0.477853]\n",
      " [-0.534522 -0.119523 -0.654154  0.521615]\n",
      " [-0.801784  0.239046  0.207179 -0.507028]]\n",
      "r:\n",
      " [[-11.224972 -12.82854  -14.432107]\n",
      " [ -0.        -1.195229  -2.390457]\n",
      " [ -0.        -0.         0.      ]\n",
      " [ -0.        -0.        -0.      ]]\n",
      "QRResult(Q=array([[ 0.        , -0.83666003,  0.5301023 , -0.13780983],\n",
      "       [-0.26726124, -0.47809144, -0.60408569,  0.57886137],\n",
      "       [-0.53452248, -0.11952286, -0.38213553, -0.74429324],\n",
      "       [-0.80178373,  0.23904572,  0.45611892,  0.30324171]]), R=array([[-1.12249722e+01, -1.28285396e+01, -1.44321071e+01],\n",
      "       [ 0.00000000e+00, -1.19522861e+00, -2.39045722e+00],\n",
      "       [ 0.00000000e+00,  0.00000000e+00,  3.48440273e-15],\n",
      "       [ 0.00000000e+00,  0.00000000e+00,  0.00000000e+00]]))\n"
     ]
    }
   ],
   "source": [
    "def qr(A):\n",
    "    m, n = A.shape\n",
    "    Q = np.eye(m)\n",
    "    for i in range(n - (m == n)):\n",
    "        H = np.eye(m)\n",
    "        x = A[i:, i]\n",
    "        v = x / (x[0] + np.copysign(np.linalg.norm(x), x[0]))\n",
    "        v[0] = 1\n",
    "        Ht = np.eye(x.shape[0])\n",
    "        Ht -= (2 * np.dot(v[:, None], v[None, :])/np.dot(v, v))\n",
    "        H[i:, i:] = Ht\n",
    "        Q = np.dot(Q, H)\n",
    "        A = np.dot(H, A)\n",
    "    return Q, A\n",
    "\n",
    "\n",
    "# task 1: show qr decomp of wp example\n",
    "a = np.arange(12).reshape(4,3)\n",
    "\n",
    "q, r = qr(a)\n",
    "print('q:\\n', q.round(6))\n",
    "print('r:\\n', r.round(6))\n",
    "r2 = np.linalg.qr(np.arange(12).reshape(4,3), mode='complete')\n",
    "print(r2)\n"
   ]
  },
  {
   "cell_type": "markdown",
   "metadata": {},
   "source": [
    "### d)\n",
    "\n",
    "<i>À l’aide d’une matrice de dimension 4 × 3 de votre choix, testez votre fonction householder_qr et comparez les\n",
    "résultats obtenus avec ceux obtenus à l’aide de la fonction numpy.linalg.qr. Les matrices sont-elles exactement\n",
    "les mêmes ? Si non, est-ce un problème?</i>\n",
    "\n"
   ]
  },
  {
   "cell_type": "markdown",
   "metadata": {},
   "source": [
    "### e)\n",
    "\n",
    "<i>À l’aide de la matrice utilisée en d, illustrez comment la multiplication successive des matrices Q_i triangularise\n",
    "progressivement la matrice A. Dans l’élan, assurez-vous que les matrices Q et R obtenues sont bien orthogonale et\n",
    "triangulaire supérieure, respectivement.</i>\n"
   ]
  }
 ],
 "metadata": {
  "kernelspec": {
   "display_name": "Python 3 (ipykernel)",
   "language": "python",
   "name": "python3"
  },
  "language_info": {
   "codemirror_mode": {
    "name": "ipython",
    "version": 3
   },
   "file_extension": ".py",
   "mimetype": "text/x-python",
   "name": "python",
   "nbconvert_exporter": "python",
   "pygments_lexer": "ipython3",
   "version": "3.12.2"
  }
 },
 "nbformat": 4,
 "nbformat_minor": 4
}
