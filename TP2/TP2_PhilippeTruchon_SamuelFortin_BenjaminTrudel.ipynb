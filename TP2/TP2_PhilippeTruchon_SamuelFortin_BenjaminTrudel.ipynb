{
 "cells": [
  {
   "cell_type": "markdown",
   "metadata": {},
   "source": [
    "#  TP 2: \n",
    "\n",
    "### 18 mars 2024\n",
    "\n",
    "### Par Samuel Fortin, Philippe Truchon et Benjamin Trudel"
   ]
  },
  {
   "cell_type": "markdown",
   "metadata": {},
   "source": [
    "## TP2.1 Décomposition QR par la méthode Householder"
   ]
  },
  {
   "cell_type": "markdown",
   "metadata": {},
   "source": [
    "#### Fonctions générales"
   ]
  },
  {
   "cell_type": "code",
   "execution_count": 40,
   "metadata": {},
   "outputs": [],
   "source": [
    "import fnmatch\n",
    "import functools\n",
    "import os\n",
    "\n",
    "import matplotlib.pyplot as plt\n",
    "import numpy as np\n",
    "import seaborn as sns\n",
    "import math\n",
    "\n",
    "\n",
    "sns.set_theme(style=\"ticks\", palette=\"deep\")\n",
    "\n",
    "plt.rcParams[\"axes.spines.right\"] = False\n",
    "plt.rcParams[\"axes.spines.top\"] = False\n",
    "\n",
    "\n",
    "\n",
    "# Liste les noms de fichier d'un dossier\n",
    "def listNameOfFiles(directory: str, extension=\"csv\"):\n",
    "    found_files = []\n",
    "    for file in os.listdir(directory):\n",
    "        if fnmatch.fnmatch(file, f\"*.{extension}\"):\n",
    "            found_files.append(file)\n",
    "    return found_files\n",
    "\n",
    "\n",
    "# Lis et crée une matrice numpy à partir de chemin d'un fichier texte\n",
    "def readTXT(path: str, header):\n",
    "    fich = open(path, \"r\")\n",
    "    fich_str = list(fich)\n",
    "    fich.close()\n",
    "    x = []\n",
    "    for i in fich_str[header:]:\n",
    "        elem_str = i.replace(\"\\n\", \"\")\n",
    "        x.append(float(elem_str))\n",
    "    return np.array(x)\n",
    "\n",
    "def readcsv(path: str, header):\n",
    "    arr = np.loadtxt(path,\n",
    "                 delimiter=\",\", dtype=float, skiprows=header)\n",
    "    return arr\n",
    "\n",
    "\n",
    "path = os.path.abspath(\"\")\n",
    "files_name = listNameOfFiles(path)\n"
   ]
  },
  {
   "cell_type": "markdown",
   "metadata": {},
   "source": [
    "### Questions:"
   ]
  },
  {
   "cell_type": "markdown",
   "metadata": {},
   "source": [
    "### a)\n",
    "\n",
    "<i>À l’aide des équations (2.1.2) et (2.1.3), démontrez que les matrices de réflexion Q_i sont orthogonales.</i>"
   ]
  },
  {
   "cell_type": "markdown",
   "metadata": {},
   "source": [
    "Sachant que $v^T v = I$:\n",
    "\n",
    "\\begin{gather*}\n",
    " H_{m,i}H_{m,i}^T = H_{m,i}H_{m,i}\n",
    " \\\\\n",
    " H_{m,i}H_{m,i}^T = \\Big( I - \\frac{2 v v^T}{v^T v} \\Big) \\Big( I - \\frac{2 v v^T}{v^T v} \\Big)\n",
    " \\\\\n",
    " H_{m,i}H_{m,i}^T = I - \\frac{ 4 v v^T }{ v^T v } + \\frac{ 4 v (v^T v) v^T }{ (v^T v)^2 }\n",
    " \\\\\n",
    " H_{m,i}H_{m,i}^T = I - \\frac{ 4 v v^T }{ v^T v } + \\frac{ 4 v v^T }{ v^T v }\n",
    " \\\\\n",
    " H_{m,i}H_{m,i}^T = I\n",
    "\\end{gather*}  "
   ]
  },
  {
   "cell_type": "markdown",
   "metadata": {},
   "source": [
    "\n",
    "$$ Q_i = \\left [\n",
    "\\begin{matrix}\n",
    "I_i & 0 \\\\\n",
    "0 & H_{m,i} \n",
    "\\end{matrix}\n",
    "\\right ]$$\n",
    "\n",
    "En utilisant la forme générale du produit des matrices par blocs, on sait que:\n",
    "\n",
    "$$ M^T = \\left [\n",
    "\\begin{matrix}\n",
    "A^T & B^T \\\\\n",
    "C^T & D^T \n",
    "\\end{matrix}\n",
    "\\right ] $$\n",
    "\n",
    "Donc:\n",
    "\n",
    "$$ Q_i = \\left [\n",
    "\\begin{matrix}\n",
    "I_i & 0 \\\\\n",
    "0 & H_{m,i} \n",
    "\\end{matrix}\n",
    "\\right ] = \\left [\n",
    "\\begin{matrix}\n",
    "I_i^T & 0 \\\\\n",
    "0 & H_{m,i}^T \n",
    "\\end{matrix}\n",
    "\\right ] = Q_i^T$$\n",
    "\n",
    "\n",
    "\n"
   ]
  },
  {
   "cell_type": "markdown",
   "metadata": {},
   "source": [
    "### b)\n",
    "\n",
    "<i>Démontrez l’équation (2.1.5) et que la matrice Q est orthogonale.</i>\n",
    "\n",
    " "
   ]
  },
  {
   "cell_type": "markdown",
   "metadata": {},
   "source": [
    "En utilisant la propriété d'associativité : $(AB)^T = B^T A^T$ et sachant que $Q_{i}^T Q_{i} = I$\n",
    "\n",
    "\\begin{gather*}\n",
    "    Q = \\prod_{i=0}^{n-1} Q_i^T\n",
    "\\end{gather*}\n",
    "\n",
    "\\begin{gather*}\n",
    "    (\\prod_{i=0}^{n-1} Q_i)^T (\\prod_{i=0}^{n-1} Q_i) = (\\prod_{i=n-1}^{0} Q_i^T)(\\prod_{i=0}^{n-1} Q_i) = \\prod_{i=0}^{n-1} I = I\n",
    "\\end{gather*}\n",
    "\n",
    "La matrice Q est donc orthogonale."
   ]
  },
  {
   "cell_type": "markdown",
   "metadata": {},
   "source": [
    "### c)\n",
    "\n",
    "<i>Implémentez la fonction householder_qr qui prend en argument une matrice A et qui retourne les matrices Q\n",
    "et R obtenues par la méthode de Householder.</i>\n"
   ]
  },
  {
   "cell_type": "code",
   "execution_count": 41,
   "metadata": {},
   "outputs": [],
   "source": [
    "def householder_qr(A, inter=False):\n",
    "    m, n = A.shape\n",
    "    Q = np.identity(m)\n",
    "    for i in range(n):\n",
    "        H = np.identity(m)\n",
    "        x = A[i:, i]\n",
    "\n",
    "        e1 = np.zeros(len(x)).T\n",
    "        e1[0] = 1\n",
    "\n",
    "        v = np.array([x]).T+np.copysign(np.linalg.norm(x), x[0]) * np.array([e1]).T\n",
    "\n",
    "\n",
    "        Ht = np.identity(x.shape[0])\n",
    "\n",
    "        Ht -= (2 * (v @ v.T)/(v.T @ v))\n",
    "\n",
    "        H[i:, i:] = Ht\n",
    "        Q = Q @ H\n",
    "        A = H @ A\n",
    "        if inter:\n",
    "            print(f'A{i}:\\n', A.round(6)) \n",
    "    return Q, A"
   ]
  },
  {
   "cell_type": "markdown",
   "metadata": {},
   "source": [
    "### d)\n",
    "\n",
    "<i>À l’aide d’une matrice de dimension 4 × 3 de votre choix, testez votre fonction householder_qr et comparez les\n",
    "résultats obtenus avec ceux obtenus à l’aide de la fonction numpy.linalg.qr. Les matrices sont-elles exactement\n",
    "les mêmes ? Si non, est-ce un problème?</i>\n",
    "\n"
   ]
  },
  {
   "cell_type": "code",
   "execution_count": 42,
   "metadata": {},
   "outputs": [
    {
     "name": "stdout",
     "output_type": "stream",
     "text": [
      "[[2 4 8]\n",
      " [7 8 3]\n",
      " [2 3 1]\n",
      " [7 2 6]]\n",
      "Q:\n",
      " [[-0.194257 -0.469735  0.859196  0.058273]\n",
      " [-0.6799   -0.477075 -0.437881  0.344088]\n",
      " [-0.194257 -0.275235 -0.13116  -0.932366]\n",
      " [-0.6799    0.689923  0.22987  -0.094347]]\n",
      "R:\n",
      " [[-10.29563   -8.158801  -7.867415]\n",
      " [ -0.        -5.141397  -1.3248  ]\n",
      " [  0.         0.         6.807986]\n",
      " [ -0.        -0.        -0.      ]]\n",
      "QRResult(Q=array([[-0.19425717, -0.46973505,  0.85919579,  0.05827289],\n",
      "       [-0.6799001 , -0.47707466, -0.43788056,  0.34408753],\n",
      "       [-0.19425717, -0.27523538, -0.13115972, -0.93236622],\n",
      "       [-0.6799001 ,  0.68992336,  0.22987026, -0.09434658]]), R=array([[-10.29563014,  -8.15880124,  -7.86741549],\n",
      "       [  0.        ,  -5.14139692,  -1.32479963],\n",
      "       [  0.        ,   0.        ,   6.80798645],\n",
      "       [  0.        ,   0.        ,   0.        ]]))\n"
     ]
    }
   ],
   "source": [
    "a = np.random.randint(1,10,(4,3))\n",
    "print(a)\n",
    "Q, R = householder_qr(a)\n",
    "print('Q:\\n', Q.round(6))\n",
    "print('R:\\n', R.round(6))\n",
    "r2 = np.linalg.qr(a, mode='complete')\n",
    "print(r2)"
   ]
  },
  {
   "cell_type": "markdown",
   "metadata": {},
   "source": [
    "Les matrices sont les mêmes, mais la matrice Q pourrait avoir des signes différents selon la convention de signe utilisée qui menerait à la même matrice R."
   ]
  },
  {
   "cell_type": "markdown",
   "metadata": {},
   "source": [
    "### e)\n",
    "\n",
    "<i>À l’aide de la matrice utilisée en d, illustrez comment la multiplication successive des matrices Q_i triangularise\n",
    "progressivement la matrice A. Dans l’élan, assurez-vous que les matrices Q et R obtenues sont bien orthogonale et\n",
    "triangulaire supérieure, respectivement.</i>\n"
   ]
  },
  {
   "cell_type": "code",
   "execution_count": 43,
   "metadata": {},
   "outputs": [
    {
     "name": "stdout",
     "output_type": "stream",
     "text": [
      "A0:\n",
      " [[-10.29563   -8.158801  -7.867415]\n",
      " [ -0.         1.077898  -6.033446]\n",
      " [  0.         1.022257  -1.580985]\n",
      " [ -0.        -4.922102  -3.033446]]\n",
      "A1:\n",
      " [[-10.29563   -8.158801  -7.867415]\n",
      " [ -0.        -5.141397  -1.3248  ]\n",
      " [  0.         0.        -0.807031]\n",
      " [ -0.        -0.        -6.759984]]\n",
      "A2:\n",
      " [[-10.29563   -8.158801  -7.867415]\n",
      " [ -0.        -5.141397  -1.3248  ]\n",
      " [  0.         0.         6.807986]\n",
      " [ -0.        -0.        -0.      ]]\n",
      "[[ 1.00000000e+00  1.77681251e-17  5.29519683e-17 -3.38438420e-17]\n",
      " [ 1.77681251e-17  1.00000000e+00 -2.82254528e-17  4.61708888e-17]\n",
      " [ 5.29519683e-17 -2.82254528e-17  1.00000000e+00 -5.47893659e-18]\n",
      " [-3.38438420e-17  4.61708888e-17 -5.47893659e-18  1.00000000e+00]]\n"
     ]
    }
   ],
   "source": [
    "Q, R = householder_qr(a, inter=True)\n",
    "I = Q @ Q.T\n",
    "print(I)"
   ]
  },
  {
   "cell_type": "markdown",
   "metadata": {},
   "source": [
    "On oberve qu'à chaque itération la colonne la plus à gauche non triangulaire le devient en devenant des zéros en dessous de la diagonale. En même temps, on observe que la dernière matrice A qui est égale à R est triangulaire supérieur que tous les valeurs en dessous de la diagonale sont zéros. Finalement, on vérifie l'orthogonalité de Q en multipliant Q par sa transpose. Le résultat obtenu est la matrice identité comme prévu, confirmant l'orthogonalité. À noter, que les zéros dans ce cas ne sont pas exactement zéro à cause d'erreur numérique."
   ]
  },
  {
   "cell_type": "code",
   "execution_count": 44,
   "metadata": {},
   "outputs": [
    {
     "name": "stdout",
     "output_type": "stream",
     "text": [
      "[[1. 0. 0. 0.]\n",
      " [0. 1. 0. 0.]\n",
      " [0. 0. 1. 0.]\n",
      " [0. 0. 0. 1.]]\n"
     ]
    }
   ],
   "source": [
    "I[I< 1e-15] = 0\n",
    "print(I)"
   ]
  },
  {
   "cell_type": "markdown",
   "metadata": {},
   "source": [
    "## TP2.2 Mesures imprécises dans un jeu de bataille navale"
   ]
  },
  {
   "cell_type": "markdown",
   "metadata": {},
   "source": [
    "### a)\n",
    "\n",
    "<i>Modifiez votre code de décomposition QR pour qu’il retourne la décomposition QR réduite de la matrice d’entrée\n",
    "lorsque l’argument additionnel reduite=True lui est passé.</i>"
   ]
  },
  {
   "cell_type": "code",
   "execution_count": 45,
   "metadata": {},
   "outputs": [],
   "source": [
    "def householder_qr(A, inter=False, reduite=False):\n",
    "    m, n = A.shape\n",
    "    Q = np.identity(m)\n",
    "    for i in range(n):\n",
    "        H = np.identity(m)\n",
    "        x = A[i:, i]\n",
    "\n",
    "        e1 = np.zeros(len(x)).T\n",
    "        e1[0] = 1\n",
    "\n",
    "        v = np.array([x]).T+np.copysign(np.linalg.norm(x), x[0]) * np.array([e1]).T\n",
    "\n",
    "\n",
    "        Ht = np.identity(x.shape[0])\n",
    "\n",
    "        Ht -= (2 * (v @ v.T)/(v.T @ v))\n",
    "\n",
    "        H[i:, i:] = Ht\n",
    "        Q = Q @ H\n",
    "        A = H @ A\n",
    "        if inter:\n",
    "            print(f'A{i}:\\n', A.round(6)) \n",
    "    if reduite:\n",
    "        A = A[:n,:]\n",
    "        Q = Q[:,:n]\n",
    "    return Q, A"
   ]
  },
  {
   "cell_type": "markdown",
   "metadata": {},
   "source": [
    "### b)\n",
    "\n",
    "<i>Utilisez votre code pour résoudre approximativement l’équation (2.2.4). Vous utiliserez les données fournies dans\n",
    "le fichier bataille_navale_equipeXX.csv où vous remplacerez XX par votre numéro d’équipe dans la boîte de\n",
    "dépôt sur MonPortail. </i>"
   ]
  },
  {
   "cell_type": "code",
   "execution_count": 46,
   "metadata": {},
   "outputs": [
    {
     "name": "stdout",
     "output_type": "stream",
     "text": [
      "Q:\n",
      " [[-0.353553 -0.540046  0.54002 ]\n",
      " [-0.353553 -0.385767  0.077167]\n",
      " [-0.353553 -0.23151  -0.23139 ]\n",
      " [-0.353553 -0.077124 -0.385793]\n",
      " [-0.353553  0.07718  -0.385761]\n",
      " [-0.353553  0.231497 -0.231398]\n",
      " [-0.353553  0.385695  0.077007]\n",
      " [-0.353553  0.540075  0.540148]]\n",
      "R:\n",
      " [[-2.82842700e+00 -6.75289279e+03 -1.61968471e+07]\n",
      " [ 0.00000000e+00 -4.58301915e+02 -2.18840078e+06]\n",
      " [-0.00000000e+00  0.00000000e+00  6.48168046e+04]]\n",
      "[[-6.83780044e+01]\n",
      " [ 2.25720748e+00]\n",
      " [-8.45177767e-04]]\n",
      "\n",
      " [[-1360.06282122]\n",
      " [  815.10517898]\n",
      " [  -54.78172217]] \n",
      " \n",
      " [-1360.06282122   815.10517898   -54.78172217]\n"
     ]
    }
   ],
   "source": [
    "data = readcsv(f'{path}\\\\{files_name[0]}', header=1)\n",
    "x = data[:,0]\n",
    "Y = data[:,1]\n",
    "X = np.ones((len(x), 3))\n",
    "X[:,1] = x\n",
    "X[:,2] = x**2\n",
    "\n",
    "Q,R = householder_qr(X, reduite=True)\n",
    "print('Q:\\n', Q.round(6))\n",
    "print('R:\\n', R.round(6))\n",
    "\n",
    "\n",
    "right = Q.T @ Y\n",
    "R_inv = np.linalg.inv(R)\n",
    "alpha = np.array([R_inv @ right]).T\n",
    "print(alpha)\n",
    "\n",
    "print('\\n', R @ alpha, '\\n \\n', right) # Vérif\n",
    "\n"
   ]
  },
  {
   "cell_type": "markdown",
   "metadata": {},
   "source": [
    "### c)\n",
    "\n",
    "<i>Tracez les données (cercles noirs) et la solution estimée de la trajectoire(ligne pleine de la couleur de votre choix)\n",
    "donnée par l’équation (2.2.3). </i>"
   ]
  },
  {
   "cell_type": "code",
   "execution_count": 47,
   "metadata": {},
   "outputs": [
    {
     "data": {
      "application/vnd.jupyter.widget-view+json": {
       "model_id": "662c03c96aef4d729d77fd99cf843e7e",
       "version_major": 2,
       "version_minor": 0
      },
      "image/png": "[encoded data removed]",
      "text/html": [
       "\n",
       "            <div style=\"display: inline-block;\">\n",
       "                <div class=\"jupyter-widgets widget-label\" style=\"text-align: center;\">\n",
       "                    Figure 24\n",
       "                </div>\n",
       "                <img src='data:image/png;base64,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' width=640.0/>\n",
       "            </div>\n",
       "        "
      ],
      "text/plain": [
       "Canvas(toolbar=Toolbar(toolitems=[('Home', 'Reset original view', 'home', 'home'), ('Back', 'Back to previous …"
      ]
     },
     "metadata": {},
     "output_type": "display_data"
    }
   ],
   "source": [
    "a0, a1, a2 = alpha[:,0]\n",
    "\n",
    "xf = np.linspace(x[0], x[-1], 1000)\n",
    "\n",
    "y = a0 + a1*xf + a2*xf**2\n",
    "\n",
    "plt.plot(xf,y, 'r', label='Trajectoire estimée')\n",
    "plt.plot(x, Y, 'ko', label='Données')\n",
    "plt.ylabel('Altitude')\n",
    "plt.xlabel('Distance horizontale')\n",
    "plt.legend()\n",
    "plt.show()\n"
   ]
  },
  {
   "cell_type": "markdown",
   "metadata": {},
   "source": [
    "### d)\n",
    "\n",
    "<i>Obtenez la position d’impact du projectile (à y = 0) en résolvant l’équation quadratique (2.2.3) pour x à l’aide\n",
    "d’une implémentation personnelle de la méthode de la bissection. Comparez votre solution avec celle obtenue en\n",
    "résolvant cette même équation analytiquement. Considérant que votre embarcation se situe à la position (x, y) =\n",
    "(0, 0), quelle est la distance horizontale vous séparant du point d’impact ?\n",
    " </i>"
   ]
  },
  {
   "cell_type": "code",
   "execution_count": 48,
   "metadata": {},
   "outputs": [
    {
     "name": "stdout",
     "output_type": "stream",
     "text": [
      "2640.044784099625\n",
      "2640.044784099625\n"
     ]
    }
   ],
   "source": [
    "def f(x):\n",
    "    return a0 + a1*x + a2*x**2\n",
    "\n",
    "def prochains_points(xA, xB): # À cause qu'on peut interpréter l'allure de la fonction (fonction 2D), il n'est pas nécessaire d'implémenter les vérifications comme f(xA)f(xB) < 0.\n",
    "    xC = (xA+xB)/2\n",
    "    if f(xA) * f(xC) > 0:\n",
    "        xA = xC\n",
    "    else:\n",
    "        xB = xC\n",
    "    return xA, xB, xC\n",
    "\n",
    "xA, xB = 2500, 2800 # À partir du graphique en c)\n",
    "xCp = np.inf\n",
    "while True:\n",
    "    xA, xB, xC = prochains_points(xA, xB)\n",
    "    if abs(xC-xCp) < 1e-16:\n",
    "        break\n",
    "    xCp = xC\n",
    "print(xC)\n",
    "\n",
    "xminus = (-a1- np.sqrt(a1**2-4*a2*a0))/(2*a2)\n",
    "print(xminus)\n",
    "\n"
   ]
  },
  {
   "cell_type": "markdown",
   "metadata": {},
   "source": [
    "## TP2.3 Modèle épidémiologique SIR sur réseau"
   ]
  },
  {
   "cell_type": "markdown",
   "metadata": {},
   "source": [
    "### a)\n",
    "\n",
    "Trouvez analytiquement toutes les solutions de l’équation cubique (2.3.3)."
   ]
  },
  {
   "cell_type": "markdown",
   "metadata": {},
   "source": [
    "$u = \\frac{1}{[1+T(\\kappa - 1)(1-u)]^2} \\equiv f(u)$ où $\\kappa$ = 5\n",
    "\n",
    "Posons aussi:\n",
    "u = (1-x)\n",
    "\n",
    "$(1-x)[1+T(5 - 1)(1-1+x)]^2 = 1$\n",
    "\n",
    "$(1-x)(1+8Tx+16T^2x^2) = 1$\n",
    "\n",
    "$(1-1+8Tx+16T^2x^2-x-8Tx^2-16T^2x^3) = 0$\n",
    "\n",
    "$x(8T+16T^2x-1-8Tx-16T^2x^2) = 0$\n",
    "\n",
    "$x((8T-1)+x(16T^2-8T)-x^2(16T^2)) = 0$\n",
    "\n",
    "\n",
    "les coefficients de chaque puissance de cette équation quadratique sont:\n",
    "\n",
    "$a = -16T^2$\n",
    "\n",
    "$b = 16T^2-8T$\n",
    "\n",
    "$c = 8T-1$\n",
    "\n",
    "\n",
    "$\\frac{-b \\pm \\sqrt{b^2-4ac}}{2a}$ où $b^2-4ac = (16T^2-8T)^2+4(16T^2)(8T-1) = 256T^4+256T^3$\n",
    "\n",
    "$\\frac{(8T-16T^2) \\pm \\sqrt{256T^4+256T^3}}{-32T^2}$\n",
    "\n",
    "\n",
    "\n",
    "$x_1 = 0$\n",
    "\n",
    "$x_2 = \\frac{(2T-1) + 2\\sqrt{T^2+T}}{4T}$\n",
    "\n",
    "$x_3 = \\frac{(2T-1) - 2\\sqrt{T^2+T}}{4T}$\n",
    "\n",
    "On peut finalement revenir en fonction de u:\n",
    "\n",
    "$u_1 = 1$\n",
    "\n",
    "$u_2 = \\frac{(1-2T) - 2\\sqrt{T^2+T}}{4T}+1$\n",
    "\n",
    "$u_3 = \\frac{(1-2T) + 2\\sqrt{T^2+T}}{4T}+1$"
   ]
  },
  {
   "cell_type": "markdown",
   "metadata": {},
   "source": [
    "### b)\n",
    "\n",
    "Démontrez laquelle des solutions obtenues précédemment (ou une combinaison de celles-ci) correspond à u, soit\n",
    "la solution recherchée de l’équation (2.3.3).\n"
   ]
  },
  {
   "cell_type": "markdown",
   "metadata": {},
   "source": [
    "La solution recherchée sera soit $u_1$, $u_2$, $u_3$ ou une combinaison des trois. \n",
    "\n",
    "Comme on cherche la valeur de $u$ la plus petite pour tout T dans l'intervalle $[0,1]$ et que $u_1$ ne varie pas en fonction de T, on posera cette valeur comme la plus petite à moins que les deux autres solutions ne soit encore plus petite. On veut donc trouver le point d'inflexion entre $u_1$ et ces deux solutions s'il y en a:\n",
    "\n",
    "$u_2 = u_1$\n",
    "\n",
    "$\\frac{(1-2T) - 2\\sqrt{T^2+T}}{4T}+1 = 1$\n",
    "\n",
    "$2\\sqrt{T^2+T} = (1-2T)$\n",
    "\n",
    "$T^2 + T = 1/4 - T + T^2$\n",
    "\n",
    "$T = 1/8$\n",
    "\n",
    "Donc, $u_2$ diminue sur l'intervalle de T et devient plus petit que $u_1$ à partir de T=1/8.\n",
    "\n",
    "\n",
    "\n",
    "$\\lim_{T\\to\\infty}u_3(T) = \\frac{T((1/T)-2) + 2T\\sqrt{1+1/T}}{4T}+1 = 1+ \\frac{((1/\\infty)-2)+2\\sqrt{1+1/\\infty}}{4} = 1+ \\frac{-2+2}{4}= 1$\n",
    "\n",
    "Comme $u_3$ donne 1 lorsque T tend vers l'infini et que cette solution est toujours plus grande que 1 avant, nous pouvons éliminer $u_3$ des possibilités sur l'intervalle à l'étude.\n",
    "\n",
    "\n",
    "Ainsi, la combinaison de solutions pour que $u$ soit toujours la plus petite solution non négative en fonction de T est $u_1$ pour $[0 \\le T \\le 0.125]$ et $u_2$ pour $[0.125<T \\le 1]$"
   ]
  },
  {
   "cell_type": "markdown",
   "metadata": {},
   "source": [
    "### c)\n",
    "\n",
    "Tracez $R_∞$ en fonction de T et identifiez tout changement qualitatif de $R_∞$. Comment interprétez-vous ce\n",
    "changement (ou cette absence de changement) ?"
   ]
  },
  {
   "cell_type": "code",
   "execution_count": 49,
   "metadata": {},
   "outputs": [
    {
     "data": {
      "application/vnd.jupyter.widget-view+json": {
       "model_id": "5ca2e6aba0f245a68971e74ac8f137ea",
       "version_major": 2,
       "version_minor": 0
      },
      "image/png": "[encoded data removed]",
      "text/html": [
       "\n",
       "            <div style=\"display: inline-block;\">\n",
       "                <div class=\"jupyter-widgets widget-label\" style=\"text-align: center;\">\n",
       "                    Figure\n",
       "                </div>\n",
       "                <img src='data:image/png;base64,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' width=640.0/>\n",
       "            </div>\n",
       "        "
      ],
      "text/plain": [
       "Canvas(toolbar=Toolbar(toolitems=[('Home', 'Reset original view', 'home', 'home'), ('Back', 'Back to previous …"
      ]
     },
     "metadata": {},
     "output_type": "display_data"
    }
   ],
   "source": [
    "import numpy as np\n",
    "import matplotlib.pyplot as plt\n",
    "\n",
    "\n",
    "def R(T,u):\n",
    "\treturn 1-((1-T*(1-u))/(1+(4*T*(1-u))))\n",
    "\n",
    "\n",
    "def u_2(T):\n",
    "\treturn 1 - ( 2*T-1 + 2*np.sqrt(T**2+T) )/( 4*T )\n",
    "\n",
    "def u_1(T):\n",
    "\treturn np.ones(T.shape)\n",
    "\n",
    "x1 = np.linspace(0,0.125,1000)\n",
    "x2 = np.linspace(0.125,1,1000)\n",
    "\n",
    "y1 = u_1(x1)\n",
    "y2 = u_2(x2)\n",
    "\n",
    "u = np.concatenate((y1,y2)) \n",
    "T = np.concatenate((x1,x2))\n",
    "\n",
    "\n",
    "fig, ax = plt.subplots(nrows=1, ncols=1)\n",
    "ax.plot(T,R(T,u), color=\"#03495C\")\n",
    "ax.plot(0.125, 0, marker='o', color=\"#FF4C24\")\n",
    "plt.text(0.150,0,'T=0.125')\n",
    "ax.set_xlabel(\"T\", fontsize=14)\n",
    "ax.set_ylabel(\"R∞\", fontsize=14)\n",
    "ax.set_title(\"Contagiosité(R∞) en fonction de T\")\n",
    "plt.show()"
   ]
  },
  {
   "cell_type": "markdown",
   "metadata": {},
   "source": [
    "Figure 3. On peut voir sur ce graphique que tant que la valeur de T n'est pas au-dessus de 0.125, la contagiosité est nulle dans la population. cela est du au fait que la probabilité qu'une personne en infecte une autre est trop faible pour permettre la propagation de l'agent pathogène. Par contre, une fois que cette valeur de T est dépassée, la contagiosité se met à augmenter rapidement jusqu'à atteindre un maximum de 0.99 lorsque T vaut 1."
   ]
  },
  {
   "cell_type": "markdown",
   "metadata": {},
   "source": [
    "### d)\n",
    "\n",
    "Résolvez numériquement l’équation (2.3.3) à l’aide d’implémentations personnelles de la méthode par relaxation\n",
    "et de la méthode de Newton-Raphson pour 20 valeurs de T uniformément distribuées dans l’intervalle [0, 1]. Illustrez\n",
    "vos résultats à l’aide d’un graphique comparant les solutions analytiques (indiquées avec des lignes de couleurs\n",
    "distinctes) aux solutions numériques obtenues avec différentes valeurs initiales de l’algorithme (symboles ; choisissez\n",
    "bien vos symboles pour que vos solutions soient bien visibles). Arrivez-vous à obtenir les trois solutions identifiées\n",
    "en a ? Pourquoi ? Considérez tracer l’équation (2.3.3) de même que la dérivée de f(u) en fonction de u et ce, pour\n",
    "quelques valeurs de T, pour appuyer vos conclusions. Vous pouvez aussi tracer les itérations successives de chacune\n",
    "des méthodes afin d’illustrer la manière dont elles convergent vers l’une ou l’autre des solutions (ex. : tracer un\n",
    "diagramme en toile d’araignée)."
   ]
  },
  {
   "cell_type": "code",
   "execution_count": null,
   "metadata": {},
   "outputs": [],
   "source": []
  }
 ],
 "metadata": {
  "kernelspec": {
   "display_name": "Python 3 (ipykernel)",
   "language": "python",
   "name": "python3"
  },
  "language_info": {
   "codemirror_mode": {
    "name": "ipython",
    "version": 3
   },
   "file_extension": ".py",
   "mimetype": "text/x-python",
   "name": "python",
   "nbconvert_exporter": "python",
   "pygments_lexer": "ipython3",
   "version": "3.11.5"
  }
 },
 "nbformat": 4,
 "nbformat_minor": 4
}
